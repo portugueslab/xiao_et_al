{
 "cells": [
  {
   "cell_type": "code",
   "execution_count": null,
   "metadata": {},
   "outputs": [],
   "source": [
    "%matplotlib widget"
   ]
  },
  {
   "cell_type": "code",
   "execution_count": null,
   "metadata": {},
   "outputs": [],
   "source": [
    "from pathlib import Path\n",
    "import numpy as np\n",
    "from bouter import EmbeddedExperiment\n",
    "import pandas as pd\n",
    "from tqdm import tqdm\n",
    "import flammkuchen as fl\n",
    "\n",
    "from matplotlib import pyplot as plt\n",
    "import seaborn as sns\n",
    "sns.set(palette=\"deep\", style=\"ticks\")\n",
    "\n",
    "from scipy.signal import detrend\n",
    "\n",
    "from bouter.utilities import crop, reliability"
   ]
  },
  {
   "cell_type": "code",
   "execution_count": null,
   "metadata": {},
   "outputs": [],
   "source": [
    "path = Path(\"/Volumes/Shared/experiments/E0070_receptive_field/v01_sliding_bars/210603_f0\")"
   ]
  },
  {
   "cell_type": "code",
   "execution_count": null,
   "metadata": {},
   "outputs": [],
   "source": []
  },
  {
   "cell_type": "code",
   "execution_count": null,
   "metadata": {},
   "outputs": [],
   "source": [
    "traces = fl.load(path / \"data_from_suite2p_unfiltered.h5\", \"/traces\").T\n",
    "coords = fl.load(path / \"data_from_suite2p_unfiltered.h5\", \"/coords\")\n",
    "\n",
    "exp = EmbeddedExperiment(path)\n",
    "\n",
    "sel = ~(traces == 0).all(0)\n",
    "traces = traces[:, sel]\n",
    "coords = coords[sel, :]\n",
    "\n",
    "# detrend the traces\n",
    "for i in tqdm(range(traces.shape[1])):\n",
    "    traces[:, i] = detrend(traces[:, i])\n",
    "    \n",
    "\n",
    "# nan large bouts\n",
    "# Window to nan bouts:\n",
    "NAN_WND_PRE_S = 1\n",
    "NAN_WND_POST_S = 15\n",
    "\n",
    "# Read original frequency:\n",
    "fs = int(exp[\"imaging\"][\"microscope_config\"][\"lightsheet\"][\"scanning\"][\"z\"][\"frequency\"])\n",
    "samp_n = traces.shape[0]\n",
    "t_orig = np.arange(traces.shape[0]) / fs\n",
    "\n",
    "nan_wnd_pre = int(NAN_WND_PRE_S * fs)\n",
    "nan_wnd_post = int(NAN_WND_POST_S * fs)\n",
    "bouts_df = exp.get_bout_properties()\n",
    "large_bouts_t = bouts_df.loc[bouts_df[\"peak_vig\"] > 1.5, \"t_start\"].values\n",
    "large_bouts_idxs = (large_bouts_t * fs).astype(np.int)\n",
    "\n",
    "# nan traces:\n",
    "traces_nanned = traces.copy()\n",
    "for idx in tqdm(large_bouts_idxs):\n",
    "    if idx > nan_wnd_pre and idx < (samp_n - nan_wnd_post):\n",
    "        traces_nanned[idx - nan_wnd_pre:idx + nan_wnd_post, :] = np.nan"
   ]
  },
  {
   "cell_type": "code",
   "execution_count": null,
   "metadata": {},
   "outputs": [],
   "source": [
    "# Create dataframe of stimulus features:\n",
    "stim_logs = exp[\"stimulus\"][\"log\"] # logs of individual stimuli\n",
    "\n",
    "# Loop and create dictionary for each stim\n",
    "cond_dict = []\n",
    "for i in range(1, len(stim_logs), 3):\n",
    "    entry = stim_logs[i]\n",
    "    pre_pause = stim_logs[i - 1]\n",
    "    \n",
    "    cond_dict.append(dict(t_start=round(pre_pause[\"t_start\"]),\n",
    "                          lum=entry[\"color_2\"][0],\n",
    "                          theta=entry[\"theta\"] + int(entry[\"x\"] < 15)*np.pi,\n",
    "                          vel=10 if entry[\"t_start\"] % 8 > 2 else 5,\n",
    "                          size=entry[\"bar_size\"]))\n",
    "\n",
    "stim_df = pd.DataFrame(cond_dict)  # convert to dataframe\n",
    "\n",
    "\n",
    "# Reshape traces matrix to crop around stimuli:\n",
    "stim_dur = stim_df.loc[1, \"t_start\"]\n",
    "n_samp = traces.shape[0]\n",
    "n_cells = traces.shape[1]\n",
    "n_reps = int(samp_n / (stim_dur*fs))\n",
    "n_samp_stim = int(n_samp / n_reps)\n",
    "reshaped = traces_nanned.T.reshape(n_cells, n_reps, n_samp_stim)\n",
    "reshaped = reshaped.swapaxes(0, 2)\n",
    "\n",
    "# Create shuffle reshaped matrix:\n",
    "rand_trig = np.random.randint(int(stim_dur*fs), \n",
    "                  traces.shape[0] - int(stim_dur*fs), \n",
    "                  n_reps)\n",
    "\n",
    "reshaped_shuf = crop(traces, rand_trig, pre_int=0, post_int=int(stim_dur*fs))\n",
    "\n",
    "thetas = sorted(stim_df[\"theta\"].unique())\n",
    "vels = sorted(stim_df[\"vel\"].unique())\n",
    "lums = sorted(stim_df[\"lum\"].unique())\n",
    "sizes = sorted(stim_df[\"size\"].unique())\n",
    "\n",
    "stim_df[\"stim_id\"] = 0\n",
    "resp_block = np.zeros((len(thetas), len(vels), len(lums), len(sizes), n_samp_stim, 4, n_cells))\n",
    "resp_block_shuf = np.zeros((len(thetas), len(vels), len(lums), len(sizes), n_samp_stim, 4, n_cells))\n",
    "\n",
    "stim_types_n = 0\n",
    "for j, theta in enumerate(thetas):\n",
    "    for k, vel in enumerate(vels):\n",
    "        for i, lum in enumerate(lums):\n",
    "            for z, size in enumerate(sizes):\n",
    "                select = (stim_df[\"lum\"] == lum) &  \\\n",
    "                         (stim_df[\"vel\"] == vel) & \\\n",
    "                         (stim_df[\"theta\"] == theta) & \\\n",
    "                         (stim_df[\"size\"] == size) \n",
    "                stim_df.loc[select, \"stim_id\"] = stim_types_n\n",
    "                \n",
    "                resp_block[j, k, i, z, :, :, :] = reshaped[:, select, :]\n",
    "                resp_block_shuf[j, k, i, z, :, :, :] = reshaped_shuf[:, select, :]\n",
    "                \n",
    "                stim_types_n+= 1\n",
    "                "
   ]
  },
  {
   "cell_type": "code",
   "execution_count": null,
   "metadata": {},
   "outputs": [],
   "source": [
    "plt.close(\"all\")\n",
    "cid = 566 # 134 # 283 # 566 # 13190# 13090  # 12100# 1020\n",
    "f, axs = plt.subplots(2, 4, figsize=(8, 4), sharey=True)\n",
    "#plt.plot(reshaped[cid, :, :].T)\n",
    "lum = 0\n",
    "for th_i  in range(len(thetas)):\n",
    "    for vel_i in range(len(vels)):\n",
    "        for col, lum_i in zip([\"b\", \"r\"], [0, 1]):\n",
    "            for s_i in range(len(sizes)):\n",
    "                # idxs = stim_df[select_ids(stim_df, lum, th, vel, size)].index\n",
    "                t = resp_block[th_i, vel_i, lum_i, s_i, :, :, cid]\n",
    "                # print(t.shape)\n",
    "                t = t - np.nanmean(t[:3, :], 0)\n",
    "                axs[vel_i, th_i].plot(np.arange(t.shape[0]) / fs, np.nanmean(t, 1), \n",
    "                               c=col, alpha=1-0.2*s_i, label=f\"{size} mm\")\n",
    "                \n",
    "        axs[0, th_i].set_title(f\"Theta: {int(180*thetas[th_i]/np.pi)}°\")\n",
    "    axs[vel_i, 0].set_ylabel(f\"Vel: {vels[vel_i]} mm/s\")\n",
    "# axs[0, 3].legend(frameon=False)\n",
    "plt.show()\n",
    "plt.tight_layout()\n",
    "sns.despine()"
   ]
  },
  {
   "cell_type": "code",
   "execution_count": null,
   "metadata": {},
   "outputs": [],
   "source": [
    "resps_shuf = resp_block_shuf[:, :, :, :, :, :, cid]"
   ]
  },
  {
   "cell_type": "code",
   "execution_count": null,
   "metadata": {},
   "outputs": [],
   "source": []
  },
  {
   "cell_type": "code",
   "execution_count": null,
   "metadata": {},
   "outputs": [],
   "source": [
    "BASELINE_PTS = 3\n",
    "\n",
    "means_shuf = np.zeros((stim_types_n, n_samp_stim, n_cells))\n",
    "\n",
    "for i in range(stim_types_n):\n",
    "    # select groups of 4 shuffled reps:\n",
    "    means_shuf[i, :, :] = np.nanmedian(reshaped_shuf[:, i*4:(i+1)*4, :], 1) \n",
    "    # subtract mean\n",
    "    means_shuf[i, :, :] = means_shuf[i, :, :] - np.nanmedian(means_shuf[i, :BASELINE_PTS, :], 0)\n",
    "    \n",
    "null_distr = means_shuf.reshape(means_shuf.shape[0]*means_shuf.shape[1], -1)"
   ]
  },
  {
   "cell_type": "code",
   "execution_count": null,
   "metadata": {},
   "outputs": [],
   "source": [
    "for j, theta in enumerate(thetas):\n",
    "    for k, vel in enumerate(vels):\n",
    "        for i, lum in enumerate([0]):\n",
    "            for z, size in enumerate(sizes):\n",
    "                resps = resp_block[j, k, i, z, :, :, :]\n",
    "                resps_shuf = resp_block_shuf[j, k, i, z, :, :, :]\n",
    "                "
   ]
  },
  {
   "cell_type": "code",
   "execution_count": null,
   "metadata": {},
   "outputs": [],
   "source": [
    "resps.shape"
   ]
  },
  {
   "cell_type": "code",
   "execution_count": null,
   "metadata": {},
   "outputs": [],
   "source": [
    "BASELINE_PTS = 3\n",
    "mn = np.nanmedian(resps, 1)\n",
    "mn = mn - np.nanmedian(mn[:BASELINE_PTS])\n"
   ]
  },
  {
   "cell_type": "code",
   "execution_count": null,
   "metadata": {},
   "outputs": [],
   "source": [
    "B_SIZE = 0.01\n",
    "THR = 0.01\n",
    "hists = []\n",
    "for i in tqdm(range(n_cells)):\n",
    "    h, _ = np.histogram(np.abs(null_distr[:, i]), np.arange(0, 40, B_SIZE), density=True)\n",
    "    hists.append(h)\n",
    "hists = np.array(hists).T\n",
    "\n",
    "cum_p = np.cumsum(hists, axis=0) * B_SIZE"
   ]
  },
  {
   "cell_type": "code",
   "execution_count": null,
   "metadata": {},
   "outputs": [],
   "source": [
    "counts = np.zeros(n_cells)\n",
    "log_p_tot = np.zeros(n_cells)\n",
    "for i in tqdm(range(n_cells)):\n",
    "    p_vect = np.abs(1 - cum_p[(np.abs(mn[:, i]) / B_SIZE).astype(np.int), i])\n",
    "    counts[i] = sum(p_vect < THR)\n",
    "    log_p_tot[i] = np.sum(np.log10(np.abs(1 - cum_p[(np.abs(mn[:, i]) / b_size).astype(np.int), i])))"
   ]
  },
  {
   "cell_type": "code",
   "execution_count": null,
   "metadata": {},
   "outputs": [],
   "source": []
  },
  {
   "cell_type": "code",
   "execution_count": null,
   "metadata": {},
   "outputs": [],
   "source": [
    "plt.figure()\n",
    "plt.plot(np.abs(mn[:, 566]))\n",
    "plt.plot(np.log10(np.abs(1 - cum_p[(np.abs(mn[:, 566]) / b_size).astype(np.int), 566])))\n",
    "plt.scatter(np.random.randint(0, 24, null_distr.shape[0]), np.abs(null_distr[:, 566]))\n",
    "plt.show()"
   ]
  },
  {
   "cell_type": "code",
   "execution_count": null,
   "metadata": {},
   "outputs": [],
   "source": [
    "mn.shape"
   ]
  },
  {
   "cell_type": "code",
   "execution_count": null,
   "metadata": {},
   "outputs": [],
   "source": [
    "from bouter.utilities import reliability\n",
    "\n",
    "rel_scores = np.zeros((len(thetas), len(vels), len(lums), len(sizes), n_cells))\n",
    "rel_scores_shuf = np.zeros((len(thetas), len(vels), len(lums), len(sizes), n_cells))\n",
    "\n",
    "k = 0\n",
    "for j, theta in enumerate(thetas):\n",
    "    for k, vel in enumerate(vels):\n",
    "        for i, lum in enumerate([lums]):\n",
    "            for z, size in enumerate(sizes):\n",
    "                resps = resp_block[j, k, i, z, :, :, cid]\n",
    "                resps_shuf = resp_block_shuf[j, k, i, z, :, :, cid]\n",
    "                \n",
    "                rels_df[j, k, i, z, :] = reliability(resp_block)\n",
    "                rels_df_shuf[j, k, i, z, :] = reliability(reshaped_shuf[:, idxs, :])\n",
    "\n",
    "                k+= 1\n",
    "\n",
    "\n",
    "            "
   ]
  },
  {
   "cell_type": "code",
   "execution_count": null,
   "metadata": {},
   "outputs": [],
   "source": []
  },
  {
   "cell_type": "code",
   "execution_count": null,
   "metadata": {},
   "outputs": [],
   "source": [
    "plt.figure(figsize=(4, 3))\n",
    "plt.hist(rels_df.flatten(), np.arange(-1, 1, 0.05), alpha=0.4, density=True)\n",
    "plt.hist(rels_df_shuf.flatten(), np.arange(-1, 1, 0.05), alpha=0.4, density=True)\n",
    "plt.xlabel(\"reliability score\")\n",
    "sns.despine()\n",
    "plt.show()"
   ]
  },
  {
   "cell_type": "code",
   "execution_count": null,
   "metadata": {},
   "outputs": [],
   "source": [
    "plt.close(\"all\")\n",
    "cid = 12100  # 13190  # 13090  # 12100  # 1020\n",
    "f, axs = plt.subplots(2, 4, figsize=(8, 4), sharey=True, sharex=True)\n",
    "#plt.plot(reshaped[cid, :, :].T)\n",
    "sizes = sorted(stim_df[\"size\"].unique())\n",
    "for j, vel in enumerate(sorted(stim_df[\"vel\"].unique())):\n",
    "    for i, th in enumerate(sorted(stim_df[\"theta\"].unique())):\n",
    "        axs[j, i].axhspan(-1, np.percentile(rels_df_shuf[cid], 95), facecolor=(0.85,)*3, lw=0)\n",
    "        for col, lum in zip([\"b\", \"r\"], [0, 255]):\n",
    "            ks = [stim_df.loc[select_ids(stim_df, lum, th, vel, s), \"stim_id\"].values[0] for s in sizes]\n",
    "\n",
    "            vals = rels_df[cid, ks]\n",
    "            axs[j, i].plot(sizes, vals, \n",
    "                           c=col, label=f\"{size} mm\")\n",
    "            axs[j, i].set_ylim(-0.2, 1.1)\n",
    "            axs[j, i].set_xlim(0, 10)\n",
    "                \n",
    "        axs[0, i].set_title(f\"Theta: {int(180*th/np.pi)}°\")\n",
    "        axs[1, i].set_xlabel(f\"bar size (mm)\")\n",
    "    axs[j, 0].set_ylabel(f\"Vel: {vel} mm/s\")\n",
    "# axs[0, 3].legend(frameon=False)\n",
    "plt.show()\n",
    "plt.tight_layout()\n",
    "sns.despine()"
   ]
  },
  {
   "cell_type": "code",
   "execution_count": null,
   "metadata": {},
   "outputs": [],
   "source": []
  }
 ],
 "metadata": {
  "kernelspec": {
   "display_name": "rplab",
   "language": "python",
   "name": "rplab"
  },
  "language_info": {
   "codemirror_mode": {
    "name": "ipython",
    "version": 3
   },
   "file_extension": ".py",
   "mimetype": "text/x-python",
   "name": "python",
   "nbconvert_exporter": "python",
   "pygments_lexer": "ipython3",
   "version": "3.8.3"
  }
 },
 "nbformat": 4,
 "nbformat_minor": 4
}
