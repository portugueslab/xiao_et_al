{
 "cells": [
  {
   "cell_type": "code",
   "execution_count": null,
   "metadata": {},
   "outputs": [],
   "source": [
    "%matplotlib notebook"
   ]
  },
  {
   "cell_type": "code",
   "execution_count": null,
   "metadata": {},
   "outputs": [],
   "source": [
    "import numpy as np\n",
    "import pandas as pd\n",
    "import json\n",
    "from pathlib import Path\n",
    "import deepdish as dd\n",
    "\n",
    "from matplotlib import pyplot as plt\n",
    "import seaborn as sns\n",
    "\n",
    "sns.set(style=\"ticks\", palette=\"deep\")"
   ]
  },
  {
   "cell_type": "code",
   "execution_count": null,
   "metadata": {},
   "outputs": [],
   "source": [
    "def load_from_path(path):\n",
    "    \"\"\"Utility function to load Stytra metadata and log for an experiment.\n",
    "    \"\"\"\n",
    "    \n",
    "    # Open json:\n",
    "    with open(next(path.glob(\"*.json*\")), \"r\") as f:\n",
    "        metadata_dict = json.load(f)\n",
    "        \n",
    "    # Open log:\n",
    "    beh_df = dd.io.load(next(fish_path.glob(\"*behavior*\")))[\"data\"]\n",
    "    beh_df = beh_df.set_index([\"t\"])  # set time as index\n",
    "    \n",
    "    return metadata_dict, beh_df"
   ]
  },
  {
   "cell_type": "markdown",
   "metadata": {},
   "source": [
    "## Calculate image scale\n",
    "\n",
    "Compute pixel size given size of the arena in pixels and in mms:"
   ]
  },
  {
   "cell_type": "code",
   "execution_count": null,
   "metadata": {},
   "outputs": [],
   "source": [
    "# Numbers taken from image size and physical setup size:\n",
    "arena_size_mm = 35\n",
    "arena_size_pixels = 770\n",
    "\n",
    "mm_pixel = arena_size_mm / arena_size_pixels"
   ]
  },
  {
   "cell_type": "markdown",
   "metadata": {},
   "source": [
    "## Find fish folders:"
   ]
  },
  {
   "cell_type": "code",
   "execution_count": null,
   "metadata": {},
   "outputs": [],
   "source": [
    "folder_name = r\"...\\free_swimming_protocol\" # Folder with Stytra fish sub-directories\n",
    "\n",
    "# Find list with all fish directories:\n",
    "master_path = Path(folder_name)\n",
    "fish_paths = list(master_path.glob(\"*f[0-9]\"))\n",
    "\n",
    "print(\"Folders: \\n\" + \"\\n\".join([str(f)for f in fish_paths]))"
   ]
  },
  {
   "cell_type": "markdown",
   "metadata": {},
   "source": [
    "## Make figure for example fish"
   ]
  },
  {
   "cell_type": "markdown",
   "metadata": {},
   "source": [
    "Create and save trajectory plot for fish i from the list above:"
   ]
  },
  {
   "cell_type": "code",
   "execution_count": null,
   "metadata": {},
   "outputs": [],
   "source": [
    "i = 0 # change number here to select another fish\n",
    "\n",
    "fish_path = fish_paths[i]  \n",
    "metadata, beh_df = load_from_path(fish_path)\n",
    "print(\"loading fish {}...\".format(fish_path.name))"
   ]
  },
  {
   "cell_type": "code",
   "execution_count": null,
   "metadata": {
    "scrolled": false
   },
   "outputs": [],
   "source": [
    "f, ax = plt.subplots(figsize=(5, 5))\n",
    "\n",
    "bar_length_mm = 10\n",
    "\n",
    "ax.plot(beh_df[\"f0_x\"] * mm_pixel, beh_df[\"f0_y\"] * mm_pixel)\n",
    "ax.axis(\"equal\")\n",
    "ax.set_yticks([])\n",
    "ax.set_xticks([0, bar_length_mm])\n",
    "ax.set_xticklabels([])\n",
    "ax.set_xticks([bar_length_mm / 2], minor=True)\n",
    "ax.set_xticklabels([\"{} mm\".format(bar_length_mm)], minor=True)\n",
    "ax.tick_params(length=0, which=\"both\")\n",
    "ax.set_title(fish_path.name)\n",
    "\n",
    "sns.despine(left=True, trim=True)\n",
    "f.savefig(str(fish_path / \"trajectory_plot.pdf\"), format=\"pdf\")\n"
   ]
  },
  {
   "cell_type": "markdown",
   "metadata": {},
   "source": [
    "# Extract distance travelled from all fish in folder"
   ]
  },
  {
   "cell_type": "code",
   "execution_count": null,
   "metadata": {},
   "outputs": [],
   "source": [
    "smooth_win_s = 0.030  # 30 ms window used to smooth data before calculating speed\n",
    "\n",
    "distances_travelled = []\n",
    "\n",
    "for fish_path in master_path.glob(\"*f[0-9]\"):\n",
    "    print(\"Processing {}...\".format(fish_path.name))\n",
    "    metadata, beh_df = load_from_path(fish_path)\n",
    "    dt = np.median(np.diff(beh_df.index))  # find timepoint duration in sec\n",
    "\n",
    "    # Smooth the velocities:\n",
    "    smooth_df = beh_df.rolling(int(smooth_win_s / dt), center=True).mean()\n",
    "\n",
    "    # Calculate speed:\n",
    "    speed = np.sqrt(smooth_df[\"f0_vx\"] ** 2 + smooth_df[\"f0_vy\"] **2)\n",
    "\n",
    "    distances_travelled.append(np.sum(speed) * mm_pixel)\n",
    "\n",
    "# Create and save DataFrame:\n",
    "pd.DataFrame(np.array(distances_travelled), columns=[\"distance (mm)\"],\n",
    "             index=[f.name for f in fish_paths]).to_excel(master_path / \"all_distances.xlsx\")"
   ]
  }
 ],
 "metadata": {
  "kernelspec": {
   "display_name": "Python 3",
   "language": "python",
   "name": "python3"
  },
  "language_info": {
   "codemirror_mode": {
    "name": "ipython",
    "version": 3
   },
   "file_extension": ".py",
   "mimetype": "text/x-python",
   "name": "python",
   "nbconvert_exporter": "python",
   "pygments_lexer": "ipython3",
   "version": "3.7.3"
  }
 },
 "nbformat": 4,
 "nbformat_minor": 2
}
