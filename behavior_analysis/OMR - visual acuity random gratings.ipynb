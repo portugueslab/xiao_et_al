{
 "cells": [
  {
   "cell_type": "code",
   "execution_count": null,
   "metadata": {},
   "outputs": [],
   "source": [
    "%matplotlib notebook"
   ]
  },
  {
   "cell_type": "code",
   "execution_count": null,
   "metadata": {},
   "outputs": [],
   "source": [
    "import numpy as np\n",
    "import pandas as pd\n",
    "from pathlib import Path\n",
    "from utilities import *\n",
    "\n",
    "from matplotlib import pyplot as plt\n",
    "import seaborn as sns\n",
    "sns.set(style=\"ticks\", palette=\"deep\")\n",
    "cols = sns.color_palette()"
   ]
  },
  {
   "cell_type": "code",
   "execution_count": null,
   "metadata": {},
   "outputs": [],
   "source": [
    "def get_summary_df(trial_stats_table):\n",
    "    trial_stats_table = trial_stats_table.copy()\n",
    "    N_TRIALS_EXCLUDE = 10  # Number of initial abituation trials to remove from the statistics\n",
    "\n",
    "    # Calculate median of computed statistics after excluding abituating trials\n",
    "    table = trial_stats_table[N_TRIALS_EXCLUDE:].groupby(\"spatial_period\").median()\n",
    "    \n",
    "    # Calculate fraction of trials with at least one bout\n",
    "    trial_stats_table[\"swimmed_fract\"] = (trial_stats_table[\"bout_n\"] > 0).values.astype(np.float)\n",
    "    table[\"swimmed_fract\"] = trial_stats_table[N_TRIALS_EXCLUDE:].groupby(\"spatial_period\").mean()[\"swimmed_fract\"]\n",
    "    return table"
   ]
  },
  {
   "cell_type": "markdown",
   "metadata": {},
   "source": [
    "# Load all experiments:"
   ]
  },
  {
   "cell_type": "markdown",
   "metadata": {},
   "source": [
    "Change this folder to point to the folder containing all individual fish data"
   ]
  },
  {
   "cell_type": "code",
   "execution_count": null,
   "metadata": {},
   "outputs": [],
   "source": [
    "# Specify name of the subdirectories with the ablation and control data:\n",
    "folder_dict_names = dict(ntr=\"ntr ablated random spatial frequency\",\n",
    "                         cnt=\"control random spatial frequency\")\n",
    "\n",
    "for group in [\"ntr\", \"cnt\"]:\n",
    "    print(\"Analysing \", group)\n",
    "    \n",
    "    master_path = Path(r\"./{}\".format(folder_dict_names[group]))\n",
    "    paths = list(master_path.glob('*_f[0-9]'))\n",
    "    exps = [Experiment(path) for path in paths]\n",
    "    genotypes = [e[\"general\"][\"animal\"][\"comments\"] for e in exps]  # animal genotypes\n",
    "\n",
    "    # List of trial-wise bout statistics for all fish:\n",
    "    trial_stats = [get_exp_stats(exp, get_spatial_period=True) for exp in exps]\n",
    "\n",
    "    # Exclude initial 10 trials and calculate median across spatial periods for each fish:\n",
    "    aggregate = [get_summary_df(s) for s in trial_stats]\n",
    "\n",
    "\n",
    "    # Get summary for desired statistics from the aggregate values and save in excel file\n",
    "    for param in [\"bout_n\", \"first_bout_latency\", \"swimmed_fract\"]:\n",
    "        summary = pd.concat([aggr[param].rename(path.name) for aggr, path in zip(aggregate, paths)], axis=1)\n",
    "        summary.to_excel(str(master_path / \"{}_{}_summary.xlsx\".format(param, group)))\n",
    "        \n",
    "    \n",
    "    # Make figures:\n",
    "    figure_saving_path = master_path # Path(r\".\\python_figures\")\n",
    "    figure_saving_path.mkdir(exist_ok=True)\n",
    "\n",
    "    for param in [\"bout_n\", \"first_bout_latency\", \"swimmed_fract\"]:\n",
    "        summary = pd.concat([aggr[param].rename(path.name) for aggr, path in zip(aggregate, paths)], axis=1)\n",
    "        f = plt.figure(figsize=(4,3))\n",
    "        plt.plot(summary,  linewidth=0.5)\n",
    "\n",
    "        quart1 = np.percentile(summary.values, 25, axis=1)\n",
    "        median = np.percentile(summary.values, 50, axis=1)\n",
    "        quart2 = np.percentile(summary.values, 75, axis=1)\n",
    "\n",
    "        plt.errorbar(summary.index, median, [median-quart1, quart2-median],  linewidth=2, color=\"k\")\n",
    "        plt.ylabel(param)\n",
    "        plt.xlabel(\"Spatial period (mm)\")\n",
    "        sns.despine()\n",
    "        plt.tight_layout()\n",
    "        f.savefig(str(figure_saving_path / f\"{param}_{group}.pdf\"), format=\"pdf\")"
   ]
  },
  {
   "cell_type": "code",
   "execution_count": null,
   "metadata": {},
   "outputs": [],
   "source": []
  }
 ],
 "metadata": {
  "kernelspec": {
   "display_name": "Python 3",
   "language": "python",
   "name": "python3"
  },
  "language_info": {
   "codemirror_mode": {
    "name": "ipython",
    "version": 3
   },
   "file_extension": ".py",
   "mimetype": "text/x-python",
   "name": "python",
   "nbconvert_exporter": "python",
   "pygments_lexer": "ipython3",
   "version": "3.7.3"
  }
 },
 "nbformat": 4,
 "nbformat_minor": 4
}
