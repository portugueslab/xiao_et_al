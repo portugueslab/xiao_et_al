{
 "cells": [
  {
   "cell_type": "code",
   "execution_count": null,
   "metadata": {},
   "outputs": [],
   "source": [
    "%matplotlib widget"
   ]
  },
  {
   "cell_type": "code",
   "execution_count": null,
   "metadata": {},
   "outputs": [],
   "source": [
    "from pathlib import Path\n",
    "import numpy as np\n",
    "from bouter import EmbeddedExperiment\n",
    "import pandas as pd\n",
    "from tqdm import tqdm\n",
    "import flammkuchen as fl\n",
    "\n",
    "from matplotlib import pyplot as plt\n",
    "import seaborn as sns\n",
    "sns.set(palette=\"deep\", style=\"ticks\")\n",
    "cols = sns.color_palette()\n",
    "\n",
    "from scipy.stats import ranksums, kstest, ttest_ind\n",
    "from utilities import stimulus_df_from_exp"
   ]
  },
  {
   "cell_type": "code",
   "execution_count": null,
   "metadata": {},
   "outputs": [],
   "source": [
    "pooled_dicts = fl.load(\"/Users/luigipetrucco/Desktop/pooled_resps.h5\")"
   ]
  },
  {
   "cell_type": "code",
   "execution_count": null,
   "metadata": {},
   "outputs": [],
   "source": [
    "fids = list(pooled_dicts.keys())"
   ]
  },
  {
   "cell_type": "code",
   "execution_count": null,
   "metadata": {},
   "outputs": [],
   "source": [
    "from numba import njit, prange\n",
    "\n",
    "@njit\n",
    "def roll_matrix(input_mat, indexes):\n",
    "    \n",
    "    output_mat = np.empty_like(input_mat)\n",
    "    \n",
    "    for i in prange(output_mat.shape[1]):\n",
    "        output_mat[:, i] = np.roll(input_mat[:, i], indexes[i])\n",
    "    \n",
    "    return output_mat\n",
    "\n",
    "def center_on_peak(input_mat):\n",
    "    \"\"\"Recenter along the 1st dimension.\n",
    "    \"\"\"\n",
    "    idxs = - np.argmax(input_mat, 0) - input_mat.shape[0] // 2\n",
    "    \n",
    "    return roll_matrix(input_mat, idxs)"
   ]
  },
  {
   "cell_type": "code",
   "execution_count": null,
   "metadata": {},
   "outputs": [],
   "source": [
    "master_path = Path(\"/Volumes/Shared/experiments/E0070_receptive_field/v04_flashing_rad_simple\")\n",
    "path = master_path / \"210611_f5\"\n",
    "responses = pd.DataFrame(fl.load(path / \"cell_resps.h5\", \"/rel_scores\"))\n",
    "\n",
    "# Load traces and experiment metadata:\n",
    "coords = fl.load(path / \"data_from_suite2p_unfiltered.h5\", \"/coords\")\n",
    "rois = fl.load(path / \"data_from_suite2p_unfiltered.h5\", \"/rois_stack\")\n",
    "mask = fl.load(path / \"anatomy.mask\", \"/mask\")\n",
    "responses = pd.DataFrame(fl.load(path / \"cell_resps.h5\", \"/rel_scores\")).values\n",
    "in_tectum = pd.DataFrame(fl.load(path / \"cell_resps.h5\", \"/in_tectum\"))\n",
    "\n",
    "exp = EmbeddedExperiment(path)\n",
    "stim_df = stimulus_df_from_exp(exp)\n",
    "\n",
    "responsive = responses.max(0) > 0.4\n",
    "all_peaks = np.argmax(responses, 0)"
   ]
  },
  {
   "cell_type": "code",
   "execution_count": null,
   "metadata": {},
   "outputs": [],
   "source": [
    "master_path = Path(\"/Volumes/Shared/experiments/E0070_receptive_field/v04_flashing_rad_simple\")\n",
    "path = master_path / \"210611_f5\"\n",
    "exp = EmbeddedExperiment(path)\n",
    "stim_df = stimulus_df_from_exp(exp)\n",
    "\n",
    "stim_thetas = np.array(sorted(stim_df[\"pos_start\"].unique()))\n",
    "l_r_position = np.cos(stim_thetas)\n",
    "a_p_position = -np.sin(stim_thetas)"
   ]
  },
  {
   "cell_type": "markdown",
   "metadata": {},
   "source": [
    "# All cells"
   ]
  },
  {
   "cell_type": "code",
   "execution_count": null,
   "metadata": {},
   "outputs": [],
   "source": [
    "pooled_data = fl.load(master_path / \"new_pooled.h5\")"
   ]
  },
  {
   "cell_type": "code",
   "execution_count": null,
   "metadata": {},
   "outputs": [],
   "source": [
    "responses = pooled_data.loc[:, [i for i in range(35)]].values.T\n",
    "coords = pooled_data.loc[:, [\"z\", \"x\", \"y\"]].values\n",
    "in_tectum = pooled_data[\"in_tectum\"].values\n",
    "\n",
    "responsive = responses.max(0) > 0.5\n",
    "all_peaks = np.argmax(responses, 0)"
   ]
  },
  {
   "cell_type": "code",
   "execution_count": null,
   "metadata": {},
   "outputs": [],
   "source": [
    "f, all_axs = plt.subplots(2, 2, figsize=(7, 4))\n",
    "\n",
    "xaxis = np.linspace(-np.pi, np.pi, 100)\n",
    "yaxis = np.linspace(-np.pi, np.pi, 100)\n",
    "\n",
    "axs = all_axs[:, 0]\n",
    "for i in range(9):\n",
    "    filt = responsive & in_tectum & (coords[:, 0] == i) \n",
    "    axs[0].scatter(coords[filt, 1], coords[filt, 2], \n",
    "                c=stim_thetas[all_peaks[filt]], cmap=\"twilight_shifted\", s=8)\n",
    "axs[0].axis(\"equal\")\n",
    "axs[0].axis(\"off\")\n",
    "\n",
    "for i in range(12, 0, -1):\n",
    "    filt = responsive & in_tectum & (coords[:, 2] > i*50) & (coords[:, 2] < (i+1)*50)\n",
    "    axs[1].scatter(coords[filt, 1], coords[filt, 0]*10, \n",
    "                c=stim_thetas[all_peaks[filt]], cmap=\"twilight_shifted\", s=8)\n",
    "axs[1].axis(\"equal\")\n",
    "axs[1].axis(\"off\")\n",
    "\n",
    "axs = all_axs[:, 1]\n",
    "filt = responsive & in_tectum\n",
    "\n",
    "axs[0].scatter(coords[filt, 1] * 0.6, -np.cos(stim_thetas[all_peaks[filt]]), s=5)\n",
    "axs[0].set_xlabel(\"Left - Right position (um)\")\n",
    "axs[0].set_ylabel(\"cos(θ)\")\n",
    "axs[0].set_ylim(-1.5, 1.5)\n",
    "\n",
    "axs[1].scatter(coords[filt, 2] * 0.6, np.sin(stim_thetas[all_peaks[filt]]), s=5)\n",
    "axs[1].set_xlabel(\"Posterior - Anterior position (um)\")\n",
    "axs[1].set_ylabel(\"sin(θ)\")\n",
    "axs[1].set_ylim(-1.5, 1.5)\n",
    "sns.despine()\n",
    "plt.tight_layout()\n",
    "\n",
    "ax = f.add_axes((0.2, 0.45, 0.1, 0.1))\n",
    "ax.imshow(np.angle(yaxis[:,None] + 1j*xaxis[None,:]).T, \n",
    "          cmap=\"twilight_shifted\", extent=[0, 1, 0, 1])\n",
    "ax.text(0,1.1, \"stim. θ\")\n",
    "ax.axis(\"equal\")\n",
    "ax.axis(\"off\")"
   ]
  },
  {
   "cell_type": "code",
   "execution_count": null,
   "metadata": {},
   "outputs": [],
   "source": [
    "f = plt.figure()\n",
    "ax = plt.subplot(111, polar=True)\n",
    "\n",
    "ax.bar(stim_thetas, c, lw=0, width=np.pi/18)\n",
    "\n",
    "ax.set_thetagrids([])\n",
    "\n",
    "ax.spines['polar'].set_visible(False) \n",
    "#ax.set_ylim(0, 1)\n",
    "ax.set_rgrids([0.3, 0.6, 0.9], angle=0, fontsize=9)\n",
    "ax.text(-0.1, 0.68,\n",
    "        'Reliability', rotation=0,ha='center',va='center', fontsize=10)"
   ]
  },
  {
   "cell_type": "code",
   "execution_count": null,
   "metadata": {},
   "outputs": [],
   "source": [
    "f, all_axs = plt.subplots(2, 3, figsize=(7, 4))\n",
    "\n",
    "xaxis = np.linspace(-np.pi, np.pi, 100)\n",
    "yaxis = np.linspace(-np.pi, np.pi, 100)\n",
    "\n",
    "for g_i, g in enumerate([\"Huc:H2B-GCaMP6s\", \"Huc:H2B-GCaMP6s;olig1:Ntr\"]):\n",
    "    axs = all_axs[:, g_i]\n",
    "    for i in range(9):\n",
    "        filt = responsive & in_tectum & (coords[:, 0] == i) & (pooled_data[\"gen\"] == g)\n",
    "        axs[0].scatter(coords[filt, 1], coords[filt, 2], \n",
    "                    c=stim_thetas[all_peaks[filt]], cmap=\"twilight_shifted\", s=8)\n",
    "    axs[0].axis(\"equal\")\n",
    "    axs[0].axis(\"off\")\n",
    "    axs[0].set_title(g)\n",
    "\n",
    "    for i in range(12, 0, -1):\n",
    "        filt = responsive & in_tectum & (pooled_data[\"gen\"] == g) & (coords[:, 2] > i*50) & (coords[:, 2] < (i+1)*50)\n",
    "        axs[1].scatter(coords[filt, 1], coords[filt, 0]*10, \n",
    "                    c=stim_thetas[all_peaks[filt]], cmap=\"twilight_shifted\", s=8)\n",
    "    axs[1].axis(\"equal\")\n",
    "    axs[1].axis(\"off\")\n",
    "\n",
    "axs = all_axs[:, 2]\n",
    "for g_i, g in enumerate([\"Huc:H2B-GCaMP6s\", \"Huc:H2B-GCaMP6s;olig1:Ntr\"]):\n",
    "    filt = responsive & in_tectum & (pooled_data[\"gen\"] == g)\n",
    "\n",
    "    axs[0].scatter(coords[filt, 1] * 0.6, np.cos(stim_thetas[all_peaks[filt]]), alpha=0.4, s=5)\n",
    "    axs[0].set_xlabel(\"Left - Right position (um)\")\n",
    "    axs[0].set_ylabel(\"cos(θ)\")\n",
    "    axs[0].set_ylim(-1.5, 1.5)\n",
    "\n",
    "    axs[1].scatter(coords[filt, 2] * 0.6, np.sin(stim_thetas[all_peaks[filt]]), alpha=0.4, s=5)\n",
    "    axs[1].set_xlabel(\"Posterior - Anterior position (um)\")\n",
    "    axs[1].set_ylabel(\"sin(θ)\")\n",
    "    axs[1].set_ylim(-1.5, 1.5)\n",
    "    sns.despine()\n",
    "    plt.tight_layout()\n",
    "\n",
    "    ax = f.add_axes((0.2, 0.45, 0.1, 0.1))\n",
    "    ax.imshow(np.angle(yaxis[:,None] + 1j*xaxis[None,:]).T, \n",
    "              cmap=\"twilight_shifted\", extent=[0, 1, 0, 1])\n",
    "    ax.text(0,1.1, \"stim. θ\")\n",
    "    ax.axis(\"equal\")\n",
    "    ax.axis(\"off\")"
   ]
  },
  {
   "cell_type": "code",
   "execution_count": null,
   "metadata": {},
   "outputs": [],
   "source": [
    "f = plt.figure(figsize=(7, 4))\n",
    "anat_scatt_size=5\n",
    "\n",
    "all_axs = [[f.add_axes((0.1+0.4*i, 0.1+0.4*j, 0.4, 0.4)) for j in range(1, -1, -1)] for i in range(2)]\n",
    "\n",
    "xaxis = np.linspace(-np.pi, np.pi, 100)\n",
    "yaxis = np.linspace(-np.pi, np.pi, 100)\n",
    "\n",
    "for g_i, g in enumerate([\"Huc:H2B-GCaMP6s\", \"Huc:H2B-GCaMP6s;olig1:Ntr\"]):\n",
    "    axs = all_axs[g_i]\n",
    "    for i in range(9):\n",
    "        filt = responsive & in_tectum & (coords[:, 0] == i) & (pooled_data[\"gen\"] == g)\n",
    "        axs[0].scatter(coords[filt, 1], coords[filt, 2], \n",
    "                    c=stim_thetas[all_peaks[filt]], cmap=\"twilight_shifted\", s=anat_scatt_size)\n",
    "    axs[0].axis(\"equal\")\n",
    "    axs[0].axis(\"off\")\n",
    "    axs[0].set_title(g)\n",
    "\n",
    "    for i in range(12, 0, -1):\n",
    "        filt = responsive & in_tectum & (pooled_data[\"gen\"] == g) & (coords[:, 2] > i*50) & (coords[:, 2] < (i+1)*50)\n",
    "        axs[1].scatter(coords[filt, 1], coords[filt, 0]*10, \n",
    "                    c=stim_thetas[all_peaks[filt]], cmap=\"twilight_shifted\", s=anat_scatt_size)\n",
    "    axs[1].axis(\"equal\")\n",
    "    axs[1].axis(\"off\")\n",
    "    \n",
    "ax = f.add_axes((0.1, 0.9, 0.1, 0.1))\n",
    "ax.imshow(np.angle(yaxis[:,None] + 1j*xaxis[None,:]).T, \n",
    "          cmap=\"twilight_shifted\", extent=[0, 1, 0, 1])\n",
    "ax.text(0,1.1, \"stim. θ\")\n",
    "ax.axis(\"equal\")\n",
    "ax.axis(\"off\")"
   ]
  },
  {
   "cell_type": "code",
   "execution_count": null,
   "metadata": {},
   "outputs": [],
   "source": []
  },
  {
   "cell_type": "code",
   "execution_count": null,
   "metadata": {},
   "outputs": [],
   "source": [
    "responsive"
   ]
  },
  {
   "cell_type": "code",
   "execution_count": null,
   "metadata": {},
   "outputs": [],
   "source": []
  },
  {
   "cell_type": "code",
   "execution_count": null,
   "metadata": {},
   "outputs": [],
   "source": [
    "check_path = Path(\"/Users/luigipetrucco/Desktop/E0070_rf_estimation/v05_flashing_rad_simple_2dims/210719_f0\")\n",
    "exp = EmbeddedExperiment(check_path)"
   ]
  },
  {
   "cell_type": "code",
   "execution_count": null,
   "metadata": {},
   "outputs": [],
   "source": [
    "logs = exp[\"stimulus\"][\"log\"][1::2]\n",
    "all_positions = []\n",
    "for log in logs:\n",
    "    clip = log[\"clip_mask\"]\n",
    "\n",
    "    pos_start = np.arctan2(clip[1][1] - 0.5, clip[1][0] - 0.5)\n",
    "    pos_end = np.arctan2(clip[2][1] - 0.5, clip[2][0] - 0.5)\n",
    "    \n",
    "    all_positions.append(pos_start)"
   ]
  },
  {
   "cell_type": "code",
   "execution_count": null,
   "metadata": {},
   "outputs": [],
   "source": [
    "pos_start"
   ]
  },
  {
   "cell_type": "code",
   "execution_count": null,
   "metadata": {},
   "outputs": [],
   "source": [
    "all_positions"
   ]
  },
  {
   "cell_type": "code",
   "execution_count": null,
   "metadata": {},
   "outputs": [],
   "source": [
    "plt.figure()\n",
    "plt.scatter(np.cos(all_positions[:4]), -np.sin(all_positions[:4]), c=np.arange(4))"
   ]
  },
  {
   "cell_type": "code",
   "execution_count": null,
   "metadata": {},
   "outputs": [],
   "source": [
    "sw, w, se, n, nw, nw, e, w, e, nw, n, nw, nem sw, e "
   ]
  }
 ],
 "metadata": {
  "kernelspec": {
   "display_name": "rplab",
   "language": "python",
   "name": "rplab"
  },
  "language_info": {
   "codemirror_mode": {
    "name": "ipython",
    "version": 3
   },
   "file_extension": ".py",
   "mimetype": "text/x-python",
   "name": "python",
   "nbconvert_exporter": "python",
   "pygments_lexer": "ipython3",
   "version": "3.8.3"
  }
 },
 "nbformat": 4,
 "nbformat_minor": 4
}
