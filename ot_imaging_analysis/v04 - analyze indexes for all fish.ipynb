{
 "cells": [
  {
   "cell_type": "code",
   "execution_count": null,
   "metadata": {},
   "outputs": [],
   "source": [
    "%matplotlib widget\n",
    "%load_ext autoreload"
   ]
  },
  {
   "cell_type": "code",
   "execution_count": null,
   "metadata": {},
   "outputs": [],
   "source": [
    "%autoreload 2\n",
    "from pathlib import Path\n",
    "import numpy as np\n",
    "from bouter import EmbeddedExperiment\n",
    "import pandas as pd\n",
    "from tqdm import tqdm\n",
    "import flammkuchen as fl\n",
    "\n",
    "from matplotlib import pyplot as plt\n",
    "import seaborn as sns\n",
    "sns.set(palette=\"deep\", style=\"ticks\")\n",
    "cols = sns.color_palette()\n",
    "\n",
    "from scipy.stats import ranksums, kstest, ttest_ind"
   ]
  },
  {
   "cell_type": "code",
   "execution_count": null,
   "metadata": {},
   "outputs": [],
   "source": [
    "pooled_dicts = fl.load(\"/Users/luigipetrucco/Desktop/pooled_resps.h5\")"
   ]
  },
  {
   "cell_type": "code",
   "execution_count": null,
   "metadata": {},
   "outputs": [],
   "source": [
    "master_path = Path(\"/Volumes/Shared/experiments/E0070_receptive_field/v04_flashing_rad_simple\")\n",
    "pooled_data = fl.load(master_path / \"new_pooled.h5\")"
   ]
  },
  {
   "cell_type": "code",
   "execution_count": null,
   "metadata": {},
   "outputs": [],
   "source": [
    "\n",
    "\n",
    "# pooled_data[\"fid\"] = pooled_data[\"cid\"].apply(fix_fid)\n",
    "path_list = [f.parent for f in master_path.glob(\"*/data_from_suite2p_unfiltered.h5\")]"
   ]
  },
  {
   "cell_type": "code",
   "execution_count": null,
   "metadata": {},
   "outputs": [],
   "source": [
    "data = fl.load(path_list[0] / \"cell_resps.h5\")"
   ]
  },
  {
   "cell_type": "code",
   "execution_count": null,
   "metadata": {},
   "outputs": [],
   "source": [
    "data = fl.load(path / \"cell_resps.h5\")"
   ]
  },
  {
   "cell_type": "code",
   "execution_count": null,
   "metadata": {},
   "outputs": [],
   "source": [
    "for path in tqdm(path_list[:1]):\n",
    "    k = path.name\n",
    "    exp = EmbeddedExperiment(path)\n",
    "    gen = [\"abl\", \"cnt\"][(int(k.split(\"_f\")[1]) % 2)]"
   ]
  },
  {
   "cell_type": "code",
   "execution_count": null,
   "metadata": {},
   "outputs": [],
   "source": [
    "gen = exp[\"general\"][\"animal\"][\"genotype\"]  # long genotype"
   ]
  },
  {
   "cell_type": "code",
   "execution_count": null,
   "metadata": {},
   "outputs": [],
   "source": [
    "df = fl.load(path / \"cell_df.h5\")"
   ]
  },
  {
   "cell_type": "code",
   "execution_count": null,
   "metadata": {},
   "outputs": [],
   "source": [
    "df.loc[0, \"gen\"]"
   ]
  },
  {
   "cell_type": "code",
   "execution_count": null,
   "metadata": {},
   "outputs": [],
   "source": [
    "REL_SCORE_THR = 0.5\n",
    "\n",
    "exp_df = []\n",
    "df_list = []\n",
    "for path in tqdm(path_list):\n",
    "    k = path.name\n",
    "    data = fl.load(path / \"cell_resps.h5\")\n",
    "    gen = [\"abl\", \"cnt\"][(int(k.split(\"_f\")[1]) % 2)]\n",
    "    rel_scores = data[\"rel_scores\"]\n",
    "    amp_scores = data[\"amp_scores\"]\n",
    "    in_tectum = data[\"in_tectum\"]\n",
    "\n",
    "    n_cells = rel_scores.shape[1]\n",
    "    n_stims = rel_scores.shape[0]\n",
    "\n",
    "    reord_rel = center_on_peak(rel_scores)\n",
    "    reord_amp = center_on_peak(amp_scores)\n",
    "\n",
    "    df = pd.DataFrame(np.concatenate([rel_scores, amp_scores, reord_rel, reord_amp], 0).T, \n",
    "                      columns=[f\"rel_{i}\" for i in range(n_stims)] + \n",
    "                              [f\"amp_{i}\" for i in range(n_stims)] + \n",
    "                              [f\"rel_reord_{i}\" for i in range(n_stims)] + \n",
    "                              [f\"amp_reord_{i}\" for i in range(n_stims)])\n",
    "    df[\"cid\"] = [f\"{k}_{i:05.0f}\" for i in range(n_cells)]\n",
    "    df[\"gen\"] = gen\n",
    "    df[\"fid\"] = k\n",
    "    df[\"in_tectum\"] = in_tectum\n",
    "\n",
    "    df[\"max_rel\"] = np.nanmax(rel_scores, 0)\n",
    "    df[\"max_rel_i\"] = np.argmax(rel_scores, 0)\n",
    "    df[\"max_amp\"] = np.nanmax(amp_scores, 0)\n",
    "    df[\"max_amp_i\"] = np.argmax(amp_scores, 0)\n",
    "\n",
    "    exp_df.append(dict(fid=k,\n",
    "                gen=gen,\n",
    "                n_cells=n_cells,\n",
    "                n_cells_tectum=sum(in_tectum),\n",
    "                above_rel_thr=np.sum(np.max(rel_scores[:, in_tectum], 0) > REL_SCORE_THR),\n",
    "                above_rel_thr_all=np.sum(np.max(rel_scores, 0) > REL_SCORE_THR)))\n",
    "    df_list.append(df)\n",
    "    \n",
    "full_df = pd.concat(df_list, axis=0)\n",
    "full_df = full_df.set_index(full_df[\"cid\"])\n",
    "\n",
    "exp_df = pd.DataFrame(exp_df)\n",
    "exp_df = exp_df.set_index(\"fid\")"
   ]
  },
  {
   "cell_type": "code",
   "execution_count": null,
   "metadata": {},
   "outputs": [],
   "source": [
    "exp_df.groupby(\"gen\").count()"
   ]
  },
  {
   "cell_type": "code",
   "execution_count": null,
   "metadata": {},
   "outputs": [],
   "source": [
    "rel_histograms = dict()\n",
    "\n",
    "plt.figure(figsize=(4, 3))\n",
    "plt.title(\"Reliability score\")\n",
    "for i, g in enumerate([\"cnt\", \"abl\"]):\n",
    "    \n",
    "    sel_fids = full_df.loc[full_df[\"gen\"]==g, \"fid\"].unique()\n",
    "    print(sel_fids)\n",
    "    all_hists = []\n",
    "    for f in sel_fids:\n",
    "        h, bins = np.histogram(full_df.loc[(full_df[\"fid\"]==f) & full_df[\"in_tectum\"], \"max_rel\"], \n",
    "                                   np.arange(0, 1, 0.02), density=True)\n",
    "        all_hists.append(h)\n",
    "    rel_histograms[g] = np.array(all_hists)\n",
    "\n",
    "    x_bins = (bins[1:] + bins[:-1]) / 2\n",
    "\n",
    "    plt.plot(x_bins, rel_histograms[g].T, c=cols[i], lw=0.2)\n",
    "    plt.plot(x_bins, rel_histograms[g].mean(0), c=cols[i], lw=2, label=g)\n",
    "    \n",
    "plt.legend(frameon=False)\n",
    "plt.yscale(\"log\")\n",
    "plt.xlabel(\"Reliability score\")\n",
    "plt.ylabel(\"log(p)\")\n",
    "sns.despine()\n",
    "plt.tight_layout()"
   ]
  },
  {
   "cell_type": "code",
   "execution_count": null,
   "metadata": {},
   "outputs": [],
   "source": [
    "rel_istograms = dict()\n",
    "\n",
    "plt.figure(figsize=(4, 3))\n",
    "plt.title(\"Response amplitude\")\n",
    "\n",
    "for i, g in enumerate([\"cnt\", \"abl\"]):\n",
    "    sel_fids = full_df.loc[(full_df[\"gen\"]==g), \"fid\"].unique()\n",
    "    print(sel_fids)\n",
    "    all_hists = []\n",
    "    for f in sel_fids:\n",
    "        h, bins = np.histogram(full_df.loc[(full_df[\"fid\"]==f) & full_df[\"in_tectum\"], \"max_amp\"], \n",
    "                                   np.arange(0, 6, 0.2),density=True)\n",
    "        all_hists.append(h)\n",
    "    all_hists[i] = np.array(all_hists)\n",
    "\n",
    "    x_bins = (bins[1:] + bins[:-1]) / 2\n",
    "\n",
    "    plt.plot(x_bins, all_hists[i].T, c=cols[i], lw=0.2)\n",
    "    plt.plot(x_bins, np.nanmean(all_hists[i], 0), c=cols[i], lw=2, label=g)\n",
    "    \n",
    "plt.legend(frameon=False)\n",
    "sns.despine()\n",
    "plt.yscale(\"log\")\n",
    "plt.xlabel(\"\")\n",
    "plt.tight_layout()\n",
    "plt.show()"
   ]
  },
  {
   "cell_type": "code",
   "execution_count": null,
   "metadata": {},
   "outputs": [],
   "source": [
    "exp_df[\"mn_amplitude\"] = full_df.loc[full_df[\"in_tectum\"] & full_df[\"max_rel\"] > REL_SCORE_THR, :].groupby(\"fid\").mean()[\"max_amp\"]\n",
    "plt.figure(figsize=(3, 3))\n",
    "sns.swarmplot(data=exp_df, x=\"gen\", y=\"mn_amplitude\", order=[\"cnt\", \"abl\"])\n",
    "sns.despine()\n",
    "plt.tight_layout()\n",
    "diff_p = ranksums(*[exp_df.loc[exp_df[\"gen\"] == g, \"mn_amplitude\"] for g in [\"cnt\", \"abl\"]])\n",
    "plt.xlabel(\"Genotype\")\n",
    "plt.ylabel(\"Mean response amplitude\")\n",
    "\n",
    "plt.text(0.5, 1, f\"p={diff_p.pvalue:0.4f}\", ha=\"center\", fontsize=10)"
   ]
  },
  {
   "cell_type": "markdown",
   "metadata": {},
   "source": [
    "## Fraction of responsive cells"
   ]
  },
  {
   "cell_type": "code",
   "execution_count": null,
   "metadata": {},
   "outputs": [],
   "source": [
    "exp_df[\"fraction_resp\"] = (exp_df[\"above_rel_thr\"])\n",
    "plt.figure(figsize=(3, 3))\n",
    "sns.swarmplot(data=exp_df, x=\"gen\", y=\"fraction_resp\", order=[\"cnt\", \"abl\"])\n",
    "sns.despine()\n",
    "plt.tight_layout()\n",
    "diff_p = ranksums(*[exp_df.loc[exp_df[\"gen\"] == g, \"fraction_resp\"] for g in [\"cnt\", \"abl\"]])\n",
    "plt.xlabel(\"Genotype\")\n",
    "plt.ylabel(\"Responsive cells (n)\")\n",
    "\n",
    "plt.text(0.5, 800, f\"p={diff_p.pvalue:0.4f}\")"
   ]
  },
  {
   "cell_type": "code",
   "execution_count": null,
   "metadata": {},
   "outputs": [],
   "source": [
    "plt.figure(figsize=(3, 3))\n",
    "sns.violinplot(data=full_df, x=\"gen\", y=\"max_rel\")\n",
    "sns.despine()\n",
    "plt.tight_layout()\n",
    "diff_p = ranksums(*[full_df.loc[full_df[\"gen\"] == g, \"max_rel\"] for g in [\"cnt\", \"abl\"]])\n",
    "plt.xlabel(\"Genotype\")\n",
    "plt.ylabel(\"Responsive cells (%)\")\n",
    "\n",
    "plt.text(0.5, 6, f\"p={diff_p.pvalue:0.4f}\")"
   ]
  },
  {
   "cell_type": "markdown",
   "metadata": {},
   "source": [
    "## RF plots"
   ]
  },
  {
   "cell_type": "code",
   "execution_count": null,
   "metadata": {},
   "outputs": [],
   "source": [
    "plt.close(\"all\")\n",
    "x_range = (np.arange(36) - 18)*10\n",
    "f, axs = plt.subplots(3, 1, figsize=(4, 6), sharex=True)\n",
    "for i, k in enumerate([\"abl\", \"cnt\"]):\n",
    "    data = full_df.loc[(full_df[\"gen\"]==k) & (full_df[\"max_rel\"] > REL_SCORE_THR) & full_df[\"in_tectum\"], \n",
    "                       [f\"rel_reord_{i}\" for i in range(36)]].values.T\n",
    "    data = data / data[18, :]\n",
    "    axs[i].plot(x_range, data[:, ::], lw=0.3, c=[c+0.1 for c in cols[i]])\n",
    "\n",
    "    axs[i].plot(x_range, np.nanmedian(data, 1), lw=2, c=[c-0.1 for c in cols[i]])\n",
    "    \n",
    "for i, k in enumerate([\"abl\", \"cnt\"]):\n",
    "    data = full_df.loc[(full_df[\"gen\"]==k) & (full_df[\"max_rel\"] > 0.5)  & full_df[\"in_tectum\"], \n",
    "                       [f\"rel_reord_{i}\" for i in range(36)]].values.T\n",
    "    data = data / data[18, :]\n",
    "    mn = np.nanmedian(data, 1)\n",
    "    quart_1 = np.nanpercentile(data, 25, axis=1)\n",
    "    quart_3 = np.nanpercentile(data, 75, axis=1) \n",
    "    axs[2].fill_between(x_range, quart_1, quart_3, lw=0, alpha=0.5,\n",
    "                        fc=[c-0.1 for c in cols[i]])\n",
    "    axs[2].plot(x_range, mn, lw=2, c=[c-0.1 for c in cols[i]], label=[\"Control\", \"Ablated\"][i])\n",
    "    \n",
    "axs[2].legend(frameon=False)\n",
    "axs[2].set_xlabel(\"Distance from preferred loc (°)\")\n",
    "axs[0].set_ylabel(\"Cnt\")\n",
    "axs[1].set_ylabel(\"Abl\")\n",
    "axs[2].set_ylabel(\"Abl\")\n",
    "plt.tight_layout()\n",
    "plt.show()\n",
    "sns.despine()"
   ]
  },
  {
   "cell_type": "code",
   "execution_count": null,
   "metadata": {},
   "outputs": [],
   "source": [
    "from scipy.optimize import curve_fit\n",
    "\n",
    "x = np.arange(36)\n",
    "y = full_df.loc[(full_df[\"gen\"]==k) & (full_df[\"max_rel\"] > 0.9), \n",
    "                       [f\"rel_reord_{i}\" for i in range(36)]].values[0, :]\n",
    "\n",
    "mean = sum(x * y) / sum(y)\n",
    "sigma = np.sqrt(sum(y * (x - mean)**2) / sum(y))\n",
    "\n",
    "def gaussian(x, a, x0, sigma):\n",
    "    return a * np.exp(-(x - x0)**2 / (2 * sigma**2))\n",
    "\n",
    "popt, pcov = curve_fit(gaussian, x, y, p0=[max(y), mean, sigma])\n",
    "\n",
    "plt.figure(figsize=(4, 3))\n",
    "plt.plot(x_range, y, 'o', label='data', lw=1)\n",
    "plt.plot(x_range, gaussian(x, *popt), 'r-', label='fit')\n",
    "plt.legend(frameon=False)\n",
    "plt.xlabel(\"Distance from preferred loc (°)\")\n",
    "plt.ylabel(\"Reliability score\")\n",
    "plt.tight_layout()\n",
    "sns.despine()\n",
    "plt.show()"
   ]
  },
  {
   "cell_type": "code",
   "execution_count": null,
   "metadata": {},
   "outputs": [],
   "source": [
    "full_data_mat = full_df.loc[:, [f\"rel_reord_{i}\" for i in range(36)]].values"
   ]
  },
  {
   "cell_type": "code",
   "execution_count": null,
   "metadata": {},
   "outputs": [],
   "source": [
    "popt = []\n",
    "pcov = []\n",
    "for i in tqdm(range(full_data_mat.shape[0])):\n",
    "    try:\n",
    "        p, c = curve_fit(gaussian, x, full_data_mat[i, :], p0=[max(y), mean, sigma])\n",
    "        popt.append(p)\n",
    "        pcov.append(c)\n",
    "    except RuntimeError:\n",
    "        popt.append(np.full(3, np.nan))\n",
    "        pcov.append(np.full((3, 3), np.nan))\n",
    "        \n",
    "fl.save(\"fit.h5\", dict(popt=np.array(popt), pcov=np.array(pcov)))"
   ]
  },
  {
   "cell_type": "code",
   "execution_count": null,
   "metadata": {},
   "outputs": [],
   "source": [
    "popt = fl.load(\"fit.h5\", \"/popt\")"
   ]
  },
  {
   "cell_type": "code",
   "execution_count": null,
   "metadata": {},
   "outputs": [],
   "source": [
    "fit_params = np.array(popt)\n",
    "\n",
    "for i, par_name in enumerate([\"fit_amp\", \n",
    "                              \"fit_mn\", \n",
    "                              \"fit_sigma\"]):\n",
    "    full_df[par_name] = fit_params[:, i]\n",
    "    \n",
    "full_df[\"fit_sigma\"] = np.abs(full_df[\"fit_sigma\"])"
   ]
  },
  {
   "cell_type": "code",
   "execution_count": null,
   "metadata": {},
   "outputs": [],
   "source": [
    "plt.close(\"all\")\n",
    "plt.figure(figsize=(4, 3))\n",
    "thr = REL_SCORE_THR\n",
    "bw = 0.3\n",
    "histograms = dict()\n",
    "for g in [\"cnt\", \"abl\"]:\n",
    "    histograms[g], b = np.histogram(\n",
    "         full_df.loc[(full_df[\"max_rel\"] > thr) & (full_df[\"gen\"] == g) & full_df[\"in_tectum\"], \n",
    "                     \"fit_sigma\"].values,\n",
    "         np.arange(0, 10, bw), density=True)\n",
    "    \n",
    "    x_bins = (b[1:] + b[:-1]) / 2\n",
    "    plt.fill_between(x_bins, np.zeros(len(x_bins)), histograms[g]*bw, alpha=0.4, lw=0, label=g)\n",
    "\n",
    "plt.legend(frameon=False)\n",
    "#plt.hist(full_df.loc[(full_df[\"max_rel\"] > thr) & (full_df[\"gen\"] == \"abl\"), \"fit_sigma\"].values,\n",
    "#         np.arange(0, 10, bw), lw=0, alpha=0.4, density=True)\n",
    "ks_diff = kstest(*[histograms[g] for g in [\"cnt\", \"abl\"]])\n",
    "ks_diff = ranksums(*[full_df.loc[(full_df[\"max_rel\"] > thr) & (full_df[\"gen\"] == g), \"fit_sigma\"].values \n",
    "                      for g in [\"cnt\", \"abl\"]])\n",
    "# plt.text(6, 0.05, f\"p={ks_diff.pvalue:0.4f}\")\n",
    "\n",
    "plt.xlabel(\"Sigma\")\n",
    "plt.ylabel(\"Count\")\n",
    "plt.tight_layout()\n",
    "sns.despine()\n",
    "plt.show()"
   ]
  },
  {
   "cell_type": "code",
   "execution_count": null,
   "metadata": {},
   "outputs": [],
   "source": [
    "exp_df[\"mean_sigma\"] = np.nan\n",
    "for f in exp_df.index:\n",
    "    s = full_df.loc[(full_df[\"fid\"]==f) & (full_df[\"max_rel\"] > REL_SCORE_THR) & full_df[\"in_tectum\"], \"fit_sigma\"] \n",
    "    exp_df.loc[f, \"mean_sigma\"] = np.nanmean(s)"
   ]
  },
  {
   "cell_type": "code",
   "execution_count": null,
   "metadata": {},
   "outputs": [],
   "source": [
    "plt.figure(figsize=(3, 3))\n",
    "sns.swarmplot(data=exp_df, x=\"gen\", y=\"mean_sigma\", order=[\"cnt\", \"abl\"])\n",
    "sns.despine()\n",
    "plt.tight_layout()\n",
    "diff_p = ranksums(*[exp_df.loc[exp_df[\"gen\"] == g, \"mean_sigma\"] for g in [\"cnt\", \"abl\"]])\n",
    "plt.xlabel(\"Genotype\")\n",
    "plt.ylabel(\"Mean sigma\")\n",
    "\n",
    "plt.text(0.5, 2, f\"p={diff_p.pvalue:0.4f}\")"
   ]
  },
  {
   "cell_type": "code",
   "execution_count": null,
   "metadata": {},
   "outputs": [],
   "source": []
  }
 ],
 "metadata": {
  "kernelspec": {
   "display_name": "rplab",
   "language": "python",
   "name": "rplab"
  },
  "language_info": {
   "codemirror_mode": {
    "name": "ipython",
    "version": 3
   },
   "file_extension": ".py",
   "mimetype": "text/x-python",
   "name": "python",
   "nbconvert_exporter": "python",
   "pygments_lexer": "ipython3",
   "version": "3.8.3"
  }
 },
 "nbformat": 4,
 "nbformat_minor": 4
}
