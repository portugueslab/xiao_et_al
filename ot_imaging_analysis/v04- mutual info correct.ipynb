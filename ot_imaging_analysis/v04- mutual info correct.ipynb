{
 "cells": [
  {
   "cell_type": "code",
   "execution_count": 1,
   "metadata": {},
   "outputs": [],
   "source": [
    "%matplotlib widget"
   ]
  },
  {
   "cell_type": "code",
   "execution_count": 2,
   "metadata": {},
   "outputs": [],
   "source": [
    "from pathlib import Path\n",
    "import numpy as np\n",
    "from bouter import EmbeddedExperiment\n",
    "import pandas as pd\n",
    "from tqdm import tqdm\n",
    "import flammkuchen as fl\n",
    "\n",
    "from matplotlib import pyplot as plt\n",
    "import seaborn as sns\n",
    "sns.set(palette=\"deep\", style=\"ticks\")\n",
    "cols = sns.color_palette()\n",
    "\n",
    "from scipy.stats import ranksums, ttest_ind, kstest"
   ]
  },
  {
   "cell_type": "code",
   "execution_count": 3,
   "metadata": {},
   "outputs": [],
   "source": [
    "from numba import njit, prange\n",
    "\n",
    "@njit\n",
    "def roll_matrix(input_mat, indexes):\n",
    "    \n",
    "    output_mat = np.empty_like(input_mat)\n",
    "    \n",
    "    for i in prange(output_mat.shape[1]):\n",
    "        output_mat[:, i] = np.roll(input_mat[:, i], indexes[i])\n",
    "    \n",
    "    return output_mat\n",
    "\n",
    "def center_on_peak(input_mat):\n",
    "    \"\"\"Recenter along the 1st dimension.\n",
    "    \"\"\"\n",
    "    idxs = - np.argmax(input_mat, 0) - input_mat.shape[0] // 2\n",
    "    \n",
    "    return roll_matrix(input_mat, idxs)"
   ]
  },
  {
   "cell_type": "code",
   "execution_count": 4,
   "metadata": {},
   "outputs": [],
   "source": [
    "master_path = Path(\"/Volumes/Shared/experiments/E0070_receptive_field/v04_flashing_rad_simple\")\n",
    "pooled_data = fl.load(master_path / \"new_pooled.h5\")"
   ]
  },
  {
   "cell_type": "code",
   "execution_count": 5,
   "metadata": {},
   "outputs": [
    {
     "name": "stderr",
     "output_type": "stream",
     "text": [
      "100%|██████████| 23/23 [03:42<00:00,  9.67s/it]\n"
     ]
    }
   ],
   "source": [
    "REL_SCORE_THR = 0.5\n",
    "\n",
    "exp_df = []\n",
    "df_list = []\n",
    "for k in tqdm(pooled_data[\"fid\"].unique()):\n",
    "    path = master_path / k\n",
    "    data = fl.load(path / \"cell_resps.h5\")\n",
    "    gen = [\"abl\", \"cnt\"][(int(k.split(\"_f\")[1]) % 2)]\n",
    "    rel_scores = data[\"rel_scores\"]\n",
    "    amp_scores = data[\"amp_scores\"]\n",
    "    in_tectum = data[\"in_tectum\"]\n",
    "\n",
    "\n",
    "\n",
    "    n_cells = rel_scores.shape[1]\n",
    "    n_stims = rel_scores.shape[0]\n",
    "\n",
    "    reord_rel = center_on_peak(rel_scores)\n",
    "    reord_amp = center_on_peak(amp_scores)\n",
    "\n",
    "    df = pd.DataFrame(np.concatenate([rel_scores, amp_scores, reord_rel, reord_amp], 0).T, \n",
    "                      columns=[f\"rel_{i}\" for i in range(n_stims)] + \n",
    "                              [f\"amp_{i}\" for i in range(n_stims)] + \n",
    "                              [f\"rel_reord_{i}\" for i in range(n_stims)] + \n",
    "                              [f\"amp_reord_{i}\" for i in range(n_stims)])\n",
    "    df[\"cid\"] = [f\"{k}_{i:05.0f}\" for i in range(n_cells)]\n",
    "    df[\"gen\"] = gen\n",
    "    df[\"fid\"] = k\n",
    "\n",
    "    df[\"max_rel\"] = np.max(rel_scores, 0)\n",
    "    df[\"max_rel_i\"] = np.argmax(rel_scores, 0)\n",
    "    df[\"max_amp\"] = np.max(amp_scores, 0)\n",
    "    df[\"max_amp_i\"] = np.argmax(amp_scores, 0)\n",
    "\n",
    "    exp_df.append(dict(fid=k,\n",
    "                gen=gen,\n",
    "                n_cells=n_cells,\n",
    "                above_rel_thr=np.sum(np.max(rel_scores, 0) > REL_SCORE_THR)))\n",
    "    df_list.append(df)\n",
    "\n",
    "full_df = pd.concat(df_list, axis=0)\n",
    "full_df = full_df.set_index(full_df[\"cid\"])\n",
    "\n",
    "\n",
    "exp_df = pd.DataFrame(exp_df)\n",
    "exp_df = exp_df.set_index(\"fid\")"
   ]
  },
  {
   "cell_type": "markdown",
   "metadata": {},
   "source": [
    "## Mutual info calculation"
   ]
  },
  {
   "cell_type": "code",
   "execution_count": 9,
   "metadata": {},
   "outputs": [
    {
     "name": "stderr",
     "output_type": "stream",
     "text": [
      "100%|██████████| 23/23 [12:10<00:00, 31.77s/it]\n"
     ]
    }
   ],
   "source": [
    "pooled_all_dicts = dict()\n",
    "for path in tqdm(list(master_path.glob(\"*_f*\"))):\n",
    "    pooled_all_dicts[path.name] = dict(all_amps = fl.load(path / \"cell_all_resps.h5\", \"/all_amps\"))"
   ]
  },
  {
   "cell_type": "code",
   "execution_count": 11,
   "metadata": {},
   "outputs": [
    {
     "data": {
      "text/plain": [
       "dict_keys(['210611_f2', '210611_f4', '210611_f5', '210611_f3', '210621_f1', '210621_f2', '210621_f3', '210621_f4', '210621_f10', '210621_f11', '210621_f13', '210621_f14', '210621_f22', '210621_f20', '210621_f21', '210624_f0', '210624_f1', '210624_f3', '210624_f4', '210624_f5', '210624_f11', '210624_f14', '210611_f15'])"
      ]
     },
     "execution_count": 11,
     "metadata": {},
     "output_type": "execute_result"
    }
   ],
   "source": [
    "pooled_all_dicts.keys()"
   ]
  },
  {
   "cell_type": "code",
   "execution_count": 10,
   "metadata": {},
   "outputs": [
    {
     "ename": "KeyError",
     "evalue": "'210611_f1'",
     "output_type": "error",
     "traceback": [
      "\u001b[0;31m---------------------------------------------------------------------------\u001b[0m",
      "\u001b[0;31mKeyError\u001b[0m                                  Traceback (most recent call last)",
      "\u001b[0;32m<ipython-input-10-1af8fc747dbe>\u001b[0m in \u001b[0;36m<module>\u001b[0;34m\u001b[0m\n\u001b[0;32m----> 1\u001b[0;31m \u001b[0mall_amps\u001b[0m \u001b[0;34m=\u001b[0m \u001b[0mpooled_all_dicts\u001b[0m\u001b[0;34m[\u001b[0m\u001b[0;34m\"210611_f1\"\u001b[0m\u001b[0;34m]\u001b[0m\u001b[0;34m[\u001b[0m\u001b[0;34m\"all_amps\"\u001b[0m\u001b[0;34m]\u001b[0m\u001b[0;34m\u001b[0m\u001b[0;34m\u001b[0m\u001b[0m\n\u001b[0m\u001b[1;32m      2\u001b[0m \u001b[0mrel_scores\u001b[0m \u001b[0;34m=\u001b[0m \u001b[0mpooled_all_dicts\u001b[0m\u001b[0;34m[\u001b[0m\u001b[0;34m\"210611_f1\"\u001b[0m\u001b[0;34m]\u001b[0m\u001b[0;34m[\u001b[0m\u001b[0;34m\"rel_scores\"\u001b[0m\u001b[0;34m]\u001b[0m\u001b[0;34m\u001b[0m\u001b[0;34m\u001b[0m\u001b[0m\n\u001b[1;32m      3\u001b[0m \u001b[0mamp_scores\u001b[0m \u001b[0;34m=\u001b[0m \u001b[0mpooled_all_dicts\u001b[0m\u001b[0;34m[\u001b[0m\u001b[0;34m\"210611_f1\"\u001b[0m\u001b[0;34m]\u001b[0m\u001b[0;34m[\u001b[0m\u001b[0;34m\"amp_scores\"\u001b[0m\u001b[0;34m]\u001b[0m\u001b[0;34m\u001b[0m\u001b[0;34m\u001b[0m\u001b[0m\n\u001b[1;32m      4\u001b[0m \u001b[0mmax_rels\u001b[0m \u001b[0;34m=\u001b[0m \u001b[0mnp\u001b[0m\u001b[0;34m.\u001b[0m\u001b[0mmax\u001b[0m\u001b[0;34m(\u001b[0m\u001b[0mrel_scores\u001b[0m\u001b[0;34m,\u001b[0m \u001b[0;36m0\u001b[0m\u001b[0;34m)\u001b[0m\u001b[0;34m\u001b[0m\u001b[0;34m\u001b[0m\u001b[0m\n\u001b[1;32m      5\u001b[0m \u001b[0mmax_amps\u001b[0m \u001b[0;34m=\u001b[0m \u001b[0mnp\u001b[0m\u001b[0;34m.\u001b[0m\u001b[0mmax\u001b[0m\u001b[0;34m(\u001b[0m\u001b[0mamp_scores\u001b[0m\u001b[0;34m,\u001b[0m \u001b[0;36m0\u001b[0m\u001b[0;34m)\u001b[0m\u001b[0;34m\u001b[0m\u001b[0;34m\u001b[0m\u001b[0m\n",
      "\u001b[0;31mKeyError\u001b[0m: '210611_f1'"
     ]
    }
   ],
   "source": [
    "all_amps = pooled_all_dicts[\"210611_f1\"][\"all_amps\"]\n",
    "rel_scores = pooled_all_dicts[\"210611_f1\"][\"rel_scores\"]\n",
    "amp_scores = pooled_all_dicts[\"210611_f1\"][\"amp_scores\"]\n",
    "max_rels = np.max(rel_scores, 0)\n",
    "max_amps = np.max(amp_scores, 0)\n",
    "\n",
    "max_idx = np.argsort(max_rels)[-2]"
   ]
  },
  {
   "cell_type": "code",
   "execution_count": null,
   "metadata": {},
   "outputs": [],
   "source": [
    "plt.figure()\n",
    "plt.plot(rel_scores[:, max_idx])\n",
    "plt.plot(amp_scores[:, max_idx])\n",
    "plt.plot(all_amps[:, :, max_idx].T, c=\"k\", lw=0.2)"
   ]
  },
  {
   "cell_type": "code",
   "execution_count": null,
   "metadata": {},
   "outputs": [],
   "source": [
    "@njit\n",
    "def stim_resp_binning(cell_resps, v_abs=1.5, binning=0.25):\n",
    "    cell_resps = cell_resps.copy()\n",
    "    \n",
    "    # Correct extremes:\n",
    "    for i in range(cell_resps.shape[0]):\n",
    "        for j in range(cell_resps.shape[1]):\n",
    "            if cell_resps[i, j] > v_abs:\n",
    "                cell_resps[i, j] = v_abs - binning\n",
    "            if cell_resps[i, j] < -v_abs:\n",
    "                cell_resps[i, j] = -v_abs + binning\n",
    "\n",
    "    base_vect = np.arange(-v_abs, v_abs + binning, binning)\n",
    "    n_stims = all_amps.shape[1]\n",
    "    all_counts = np.empty((len(base_vect)-1, n_stims))\n",
    "    for c in range(n_stims):\n",
    "        all_counts[:, c], bins = np.histogram(cell_resps[:, c], base_vect)\n",
    "    all_counts = all_counts / np.sum(all_counts)\n",
    "        \n",
    "    return all_counts\n",
    "\n",
    "@njit\n",
    "def mutual_info(all_counts):\n",
    "    x_marg = all_counts.sum(0)\n",
    "    y_marg = all_counts.sum(1)\n",
    "\n",
    "    count = 0\n",
    "    for x in range(len(x_marg)):\n",
    "        for y in range(len(y_marg)):\n",
    "            if all_counts[y, x] > 0:\n",
    "                count += all_counts[y, x] * np.log2(all_counts[y, x] / (x_marg[x] * y_marg[y]))\n",
    "    return count\n",
    "\n",
    "@njit(parallel=True)\n",
    "def mutual_info_allcells(all_amps):\n",
    "    info_array = np.empty(all_amps.shape[2])\n",
    "    \n",
    "    for i in prange(all_amps.shape[2]):\n",
    "        info_array[i] = mutual_info(stim_resp_binning(all_amps[:, :, i]))\n",
    "        \n",
    "    return info_array"
   ]
  },
  {
   "cell_type": "code",
   "execution_count": null,
   "metadata": {},
   "outputs": [],
   "source": [
    "all_counts = stim_resp_binning(all_amps[:, :, max_idx].copy(), 1.5, 0.25)"
   ]
  },
  {
   "cell_type": "code",
   "execution_count": null,
   "metadata": {},
   "outputs": [],
   "source": [
    "plt.figure()\n",
    "plt.imshow(all_counts.T)\n",
    "plt.xlabel(\"Bin\")\n",
    "plt.ylabel(\"Stimulus\")"
   ]
  },
  {
   "cell_type": "code",
   "execution_count": null,
   "metadata": {},
   "outputs": [],
   "source": [
    "%%time\n",
    "all_mutual_info = mutual_info_allcells(all_amps[:, :, :])"
   ]
  },
  {
   "cell_type": "code",
   "execution_count": null,
   "metadata": {},
   "outputs": [],
   "source": [
    "all_amps.shape"
   ]
  },
  {
   "cell_type": "code",
   "execution_count": null,
   "metadata": {},
   "outputs": [],
   "source": [
    "plt.figure()\n",
    "plt.scatter(max_rels, max_amps, s=5, alpha=0.5)"
   ]
  },
  {
   "cell_type": "code",
   "execution_count": null,
   "metadata": {},
   "outputs": [],
   "source": [
    "plt.close(\"all\")\n",
    "max_idx = np.argsort(all_mutual_info)[-1]\n",
    "plt.figure(figsize=(4, 3))\n",
    "# plt.plot(rel_scores[:, max_idx])\n",
    "plt.plot((np.arange(36) - 18)*10, all_amps[:, :, max_idx].T, \"o\", c=(0.7,)*3, lw=0, alpha=1)\n",
    "plt.plot((np.arange(36) - 18)*10, amp_scores[:, max_idx], label=\"mean\",c=cols[3])\n",
    "plt.xlabel(\"Orientation (°)\")\n",
    "plt.ylabel(\"Response amplitude\")\n",
    "plt.tight_layout()\n",
    "plt.show()\n",
    "sns.despine()"
   ]
  },
  {
   "cell_type": "code",
   "execution_count": null,
   "metadata": {},
   "outputs": [],
   "source": [
    "full_df[\"mutual_info\"] = np.nan\n",
    "for f in tqdm(full_df[\"fid\"].unique()):\n",
    "    all_amps = fl.load(master_path / f / \"cell_all_resps.h5\", \"/all_amps\") #  pooled_all_dicts[f][\"all_amps\"]\n",
    "    all_mutual_info = mutual_info_allcells(all_amps[:, :, :])\n",
    "    full_df.loc[full_df[\"fid\"] == f, \"mutual_info\"] = all_mutual_info"
   ]
  },
  {
   "cell_type": "code",
   "execution_count": null,
   "metadata": {},
   "outputs": [],
   "source": [
    "exp_df[\"mean_info\"] = full_df[full_df[\"max_rel\"] > 0.6].groupby(\"fid\").mean()[\"mutual_info\"]"
   ]
  },
  {
   "cell_type": "code",
   "execution_count": null,
   "metadata": {},
   "outputs": [],
   "source": [
    "plt.figure(figsize=(3, 3))\n",
    "sns.swarmplot(data=exp_df, x=\"gen\", y=\"mean_info\")\n",
    "sns.despine()\n",
    "plt.tight_layout()\n",
    "diff_p = ranksums(*[exp_df.loc[exp_df[\"gen\"] == g, \"mean_info\"] for g in [\"cnt\", \"abl\"]])\n",
    "plt.xlabel(\"Genotype\")\n",
    "plt.ylabel(\"Mean mutual info\")\n",
    "\n",
    "plt.text(0.5, 1.05, f\"p={diff_p.pvalue:0.4f}\")"
   ]
  },
  {
   "cell_type": "code",
   "execution_count": null,
   "metadata": {},
   "outputs": [],
   "source": [
    "full_df.keys()"
   ]
  },
  {
   "cell_type": "code",
   "execution_count": null,
   "metadata": {},
   "outputs": [],
   "source": [
    "plt.figure(figsize=(3, 3))\n",
    "sns.violinplot(data=full_df, x=\"gen\", y=\"mutual_info\")\n",
    "sns.despine()\n",
    "plt.tight_layout()\n",
    "diff_p = ttest_ind(*[full_df.loc[full_df[\"gen\"] == g, \"mutual_info\"] for g in [\"cnt\", \"abl\"]])\n",
    "plt.xlabel(\"Genotype\")\n",
    "plt.ylabel(\"Mean mutual info\")\n",
    "\n",
    "plt.text(0.5, 1.05, f\"p={diff_p.pvalue:0.4e}\")"
   ]
  },
  {
   "cell_type": "code",
   "execution_count": null,
   "metadata": {},
   "outputs": [],
   "source": [
    "plt.close(\"all\")\n",
    "plt.figure(figsize=(4, 3))\n",
    "thr = 0.5\n",
    "bw = 0.05\n",
    "histograms = dict()\n",
    "for g in [\"cnt\", \"abl\"]:\n",
    "    histograms[g], b = np.histogram(\n",
    "         full_df.loc[(full_df[\"max_rel\"] > thr) & (full_df[\"gen\"] == g), \"mutual_info\"].values,\n",
    "         np.arange(0.25, 1.75, bw), density=True)\n",
    "    \n",
    "    x_bins = (b[1:] + b[:-1]) / 2\n",
    "    plt.fill_between(x_bins, np.zeros(len(x_bins)), histograms[g]*bw, alpha=0.4, lw=0, label=g)\n",
    "\n",
    "plt.legend(frameon=False)\n",
    "#plt.hist(full_df.loc[(full_df[\"max_rel\"] > thr) & (full_df[\"gen\"] == \"abl\"), \"fit_sigma\"].values,\n",
    "#         np.arange(0, 10, bw), lw=0, alpha=0.4, density=True)\n",
    "ks_diff = kstest(*[histograms[g] for g in [\"cnt\", \"abl\"]])\n",
    "ks_diff = ttest_ind(*[full_df.loc[(full_df[\"gen\"] == g) & (full_df[\"max_rel\"] > thr), \n",
    "                                  \"mutual_info\"] for g in [\"cnt\", \"abl\"]])\n",
    "plt.text(1.2, 0.1, f\"p={ks_diff.pvalue:0.4f}\")\n",
    "\n",
    "plt.xlabel(\"Mutual information with stimulus\")\n",
    "plt.ylabel(\"Count\")\n",
    "plt.tight_layout()\n",
    "sns.despine()\n",
    "plt.show()"
   ]
  },
  {
   "cell_type": "code",
   "execution_count": null,
   "metadata": {},
   "outputs": [],
   "source": [
    "exp_df.loc[exp_df[\"gen\"] == \"cnt\", \"mean_info\"].values\n",
    "exp_df.loc[exp_df[\"gen\"] == \"abl\", \"mean_info\"].values"
   ]
  },
  {
   "cell_type": "code",
   "execution_count": null,
   "metadata": {},
   "outputs": [],
   "source": [
    "ks_diff.pvalue"
   ]
  },
  {
   "cell_type": "code",
   "execution_count": null,
   "metadata": {},
   "outputs": [],
   "source": []
  },
  {
   "cell_type": "code",
   "execution_count": null,
   "metadata": {},
   "outputs": [],
   "source": []
  },
  {
   "cell_type": "code",
   "execution_count": null,
   "metadata": {},
   "outputs": [],
   "source": []
  },
  {
   "cell_type": "code",
   "execution_count": null,
   "metadata": {},
   "outputs": [],
   "source": []
  },
  {
   "cell_type": "code",
   "execution_count": null,
   "metadata": {},
   "outputs": [],
   "source": []
  },
  {
   "cell_type": "code",
   "execution_count": null,
   "metadata": {},
   "outputs": [],
   "source": []
  },
  {
   "cell_type": "code",
   "execution_count": null,
   "metadata": {},
   "outputs": [],
   "source": []
  },
  {
   "cell_type": "code",
   "execution_count": null,
   "metadata": {},
   "outputs": [],
   "source": [
    "rel_istograms = dict()\n",
    "\n",
    "plt.figure(figsize=(4, 3))\n",
    "plt.title(\"Reliability score\")\n",
    "for i, g in enumerate([\"cnt\", \"abl\"]):\n",
    "    sel_fids = full_df.loc[full_df[\"gen\"]==g, \"fid\"].unique()# [:1]\n",
    "    print(sel_fids)\n",
    "    all_hists = []\n",
    "    for f in sel_fids:\n",
    "        h, bins = np.histogram(full_df.loc[full_df[\"fid\"]==f, \"max_rel\"], \n",
    "                                   np.arange(0, 1, 0.02), density=True)\n",
    "        all_hists.append(h)\n",
    "    rel_istograms[g] = np.array(all_hists)\n",
    "\n",
    "    x_bins = (bins[1:] + bins[:-1]) / 2\n",
    "\n",
    "    plt.plot(x_bins, rel_istograms[g].T, c=cols[i], lw=0.2)\n",
    "    plt.plot(x_bins, rel_istograms[g].mean(0), c=cols[i], lw=2, label=g)\n",
    "    \n",
    "plt.legend(frameon=False)\n",
    "plt.yscale(\"log\")\n",
    "sns.despine()"
   ]
  },
  {
   "cell_type": "code",
   "execution_count": null,
   "metadata": {},
   "outputs": [],
   "source": [
    "rel_istograms = dict()\n",
    "\n",
    "plt.figure(figsize=(4, 3))\n",
    "plt.title(\"Response amplitude\")\n",
    "\n",
    "for i, g in enumerate([\"cnt\", \"abl\"]):\n",
    "    sel_fids = full_df.loc[full_df[\"gen\"]==g, \"fid\"].unique()\n",
    "    print(sel_fids)\n",
    "    all_hists = []\n",
    "    for f in sel_fids:\n",
    "        h, bins = np.histogram(full_df.loc[full_df[\"fid\"]==f, \"max_amp\"], \n",
    "                                   np.arange(0, 6, 0.2),density=True)\n",
    "        all_hists.append(h)\n",
    "    rel_istograms[g] = np.array(all_hists)\n",
    "\n",
    "    x_bins = (bins[1:] + bins[:-1]) / 2\n",
    "\n",
    "    plt.plot(x_bins, rel_istograms[g].T, c=cols[i], lw=0.2)\n",
    "    plt.plot(x_bins, np.nanmean(rel_istograms[g], 0), c=cols[i], lw=2, label=g)\n",
    "    \n",
    "plt.legend(frameon=False)\n",
    "sns.despine()\n",
    "plt.yscale(\"log\")\n",
    "plt.tight_layout()"
   ]
  },
  {
   "cell_type": "code",
   "execution_count": null,
   "metadata": {},
   "outputs": [],
   "source": []
  }
 ],
 "metadata": {
  "kernelspec": {
   "display_name": "rplab",
   "language": "python",
   "name": "rplab"
  },
  "language_info": {
   "codemirror_mode": {
    "name": "ipython",
    "version": 3
   },
   "file_extension": ".py",
   "mimetype": "text/x-python",
   "name": "python",
   "nbconvert_exporter": "python",
   "pygments_lexer": "ipython3",
   "version": "3.8.3"
  }
 },
 "nbformat": 4,
 "nbformat_minor": 4
}
