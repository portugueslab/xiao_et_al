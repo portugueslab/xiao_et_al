{
 "cells": [
  {
   "cell_type": "code",
   "execution_count": null,
   "metadata": {},
   "outputs": [],
   "source": [
    "%matplotlib widget\n",
    "%load_ext autoreload"
   ]
  },
  {
   "cell_type": "code",
   "execution_count": null,
   "metadata": {},
   "outputs": [],
   "source": [
    "%autoreload 2\n",
    "from pathlib import Path\n",
    "import numpy as np\n",
    "from bouter import EmbeddedExperiment\n",
    "import pandas as pd\n",
    "from tqdm import tqdm\n",
    "import flammkuchen as fl\n",
    "\n",
    "from matplotlib import pyplot as plt\n",
    "import seaborn as sns\n",
    "sns.set(palette=\"deep\", style=\"ticks\")\n",
    "cols = sns.color_palette()\n",
    "\n",
    "from scipy.signal import detrend\n",
    "\n",
    "from bouter.utilities import crop, reliability\n",
    "from scipy.stats import ranksums, kstest, ttest_ind\n",
    "# from utilities import *\n",
    "from xiao_et_al_utils.behavior_and_stimuli import stimulus_df_from_exp0070\n",
    "from xiao_et_al_utils.plotting import add_fish, despine"
   ]
  },
  {
   "cell_type": "code",
   "execution_count": null,
   "metadata": {},
   "outputs": [],
   "source": [
    "master_path = Path(\"/Volumes/Shared/experiments/E0070_receptive_field/v04_flashing_rad_simple\")\n",
    "\n",
    "path_list = [f.parent for f in master_path.glob(\"*/data_from_suite2p_unfiltered.h5\")]"
   ]
  },
  {
   "cell_type": "code",
   "execution_count": null,
   "metadata": {},
   "outputs": [],
   "source": [
    "all_coords = []\n",
    "for p in path_list:\n",
    "    coords = fl.load(p/ \"data_from_suite2p_unfiltered.h5\", \"/coords\")\n",
    "    \n",
    "    coords -= all_offsets[p.name]\n",
    "    \n",
    "    all_coords.append(coords)"
   ]
  },
  {
   "cell_type": "code",
   "execution_count": null,
   "metadata": {},
   "outputs": [],
   "source": [
    "all_masks = [fl.load(p/ \"anatomy.mask\", \"/mask\") for p in path_list]\n",
    "# all_coords = [fl.load(p/ \"data_from_suite2p_unfiltered.h5\", \"/coords\") for p in path_list]\n",
    "all_offsets = fl.load(master_path / \"manual_alignment_offsets.h5\")\n"
   ]
  },
  {
   "cell_type": "code",
   "execution_count": null,
   "metadata": {},
   "outputs": [],
   "source": [
    "all_df = fl.load(master_path / \"pooled_dfs.h5\")"
   ]
  },
  {
   "cell_type": "code",
   "execution_count": null,
   "metadata": {},
   "outputs": [],
   "source": [
    "all_df = all_df[\"all_cells_df\"]"
   ]
  },
  {
   "cell_type": "code",
   "execution_count": null,
   "metadata": {},
   "outputs": [],
   "source": [
    "plt.figure()\n",
    "plt.subplot(121)\n",
    "sel = all_df[\"max_rel\"] > 0.5\n",
    "plt.scatter(all_df.loc[sel, \"x\"], all_df.loc[sel, \"y\"], s=0.1, alpha=0.1, c=all_df.loc[sel, \"max_rel\"])\n",
    "plt.axis(\"equal\")\n",
    "\n",
    "plt.subplot(122)\n",
    "plt.scatter(all_df.loc[sel, \"x_trasf\"], all_df.loc[sel, \"y_trasf\"], s=0.1, alpha=0.1, \n",
    "            c=all_df.loc[sel, \"max_rel\"])\n",
    "plt.axis(\"equal\")"
   ]
  },
  {
   "cell_type": "code",
   "execution_count": null,
   "metadata": {},
   "outputs": [],
   "source": [
    "plt.figure(figsize=(9, 2.5))\n",
    "plt.subplot(131)\n",
    "for m, c in zip(all_masks, all_coords):\n",
    "    prof = m.max(1)\n",
    "    plt.scatter(c[:, 1], c[:, 2], s=0.1, alpha=0.01, c=\"k\")\n",
    "plt.axis(\"off\")\n",
    "    \n",
    "plt.subplot(132)\n",
    "for m, c in zip(all_masks, all_coords):\n",
    "    prof = m.max(0)\n",
    "    #prof = pro\n",
    "    x = prof.shape[0] // 2\n",
    "    y = prof.shape[1] // 2\n",
    "    plt.scatter(c[:, 1] - x, c[:, 2] - y, s=0.1, alpha=0.01, c=\"k\")\n",
    "plt.axis(\"off\")\n",
    "\n",
    "plt.subplot(133)\n",
    "for m, c, p in zip(all_masks, all_coords, path_list):\n",
    "    prof = m.max(1)\n",
    "    #prof = pro\n",
    "    x, y = all_offsets[p.name][1:]\n",
    "    plt.scatter(c[:, 1] - x, c[:, 2] - y, s=0.1, alpha=0.01, c=\"k\")\n",
    "plt.axis(\"off\")"
   ]
  },
  {
   "cell_type": "code",
   "execution_count": null,
   "metadata": {},
   "outputs": [],
   "source": [
    "plt.figure(figsize=(9, 2.5))\n",
    "plt.subplot(131)\n",
    "for m, c in zip(all_masks, all_coords):\n",
    "    offsets_z = np.random.rand(c.shape[0])*15\n",
    "    plt.scatter(c[:, 1], c[:, 0] + offsets_z, s=0.1, alpha=0.01, c=\"k\")\n",
    "plt.axis(\"off\")\n",
    "    \n",
    "plt.subplot(132)\n",
    "for m, c in zip(all_masks, all_coords):\n",
    "    prof = m.max(2)\n",
    "    offsets_z = np.random.rand(c.shape[0])*15\n",
    "    x = prof.shape[0] // 2\n",
    "    y = prof.shape[1] // 2\n",
    "    plt.scatter(c[:,1] - y, c[:, 0] - x + offsets_z, s=0.1, alpha=0.01, c=\"k\")\n",
    "plt.axis(\"off\")\n",
    "\n",
    "plt.subplot(133)\n",
    "for m, c, p in zip(all_masks, all_coords, path_list):\n",
    "    offsets_z = np.random.rand(c.shape[0])*15\n",
    "    x, y = all_offsets[p.name][:-1]\n",
    "    plt.scatter(c[:, 1] - y, c[:, 0] - x + offsets_z, s=0.1, alpha=0.01, c=\"k\")\n",
    "plt.axis(\"off\")"
   ]
  },
  {
   "cell_type": "code",
   "execution_count": null,
   "metadata": {},
   "outputs": [],
   "source": [
    "all_masks = np.array(all_masks)"
   ]
  },
  {
   "cell_type": "code",
   "execution_count": null,
   "metadata": {},
   "outputs": [],
   "source": []
  },
  {
   "cell_type": "code",
   "execution_count": null,
   "metadata": {},
   "outputs": [],
   "source": [
    "# Load traces and experiment metadata:\n",
    "path = master_path / \"210611_f5\"\n",
    "traces = fl.load(path / \"data_from_suite2p_unfiltered.h5\", \"/traces\").T\n",
    "# detrend the traces:\n",
    "for i in tqdm(range(traces.shape[1])):\n",
    "    traces[:, i] = detrend(traces[:, i])\n",
    "traces = (traces - np.nanmean(traces, 0)) / np.nanstd(traces, 0)\n",
    "rois = fl.load(path / \"data_from_suite2p_unfiltered.h5\", \"/rois_stack\")\n",
    "anatomy = fl.load(path / \"data_from_suite2p_unfiltered.h5\", \"/anatomy_stack\")\n",
    "ot_mask = fl.load(path / \"anatomy.mask\", \"/mask\")"
   ]
  },
  {
   "cell_type": "markdown",
   "metadata": {},
   "source": [
    "# Data for single cell"
   ]
  },
  {
   "cell_type": "code",
   "execution_count": null,
   "metadata": {},
   "outputs": [],
   "source": [
    "cells_df = fl.load(path / \"cell_df.h5\")"
   ]
  },
  {
   "cell_type": "code",
   "execution_count": null,
   "metadata": {},
   "outputs": [],
   "source": [
    "cells_df.loc[:, [f\"rel_{i}\" for i in range(len(pos))]].values.T"
   ]
  },
  {
   "cell_type": "code",
   "execution_count": null,
   "metadata": {},
   "outputs": [],
   "source": [
    "plt.figure()\n",
    "plt.scatter(cells_df.loc[:, [f\"rel_{i}\" for i in range(len(pos))]].values.T.flatten(), rel_scores.flatten())"
   ]
  },
  {
   "cell_type": "code",
   "execution_count": null,
   "metadata": {},
   "outputs": [],
   "source": [
    "coords = fl.load(path / \"data_from_suite2p_unfiltered.h5\", \"/coords\")\n",
    "\n",
    "exp = EmbeddedExperiment(path)\n",
    "\n",
    "# Read original frequency:\n",
    "fs = int(exp[\"imaging\"][\"microscope_config\"][\"lightsheet\"][\"scanning\"][\"z\"][\"frequency\"])\n",
    "samp_n = traces.shape[0]\n",
    "t_orig = np.arange(traces.shape[0]) / fs\n",
    "\n",
    "\n",
    "stim_df = stimulus_df_from_exp0070(exp)\n",
    "\n",
    "# Crop around stimuli:\n",
    "n_cells = traces.shape[1]\n",
    "PRE_INT_S = 2\n",
    "POST_INT_S = 5\n",
    "cropped = crop(traces, stim_df[\"t\"]*fs, \n",
    "                     pre_int=int(PRE_INT_S*fs), post_int=int(POST_INT_S*fs))\n",
    "cropped = cropped - cropped[:int(PRE_INT_S*fs), :, :].mean(0)\n",
    "\n",
    "# Find unique positions in the stimulus:\n",
    "pos = sorted(stim_df.loc[:, \"pos_start\"].unique())\n",
    "\n",
    "# Loop over positions and compute reliability scores:\n",
    "# rel_scores = np.zeros((len(pos), n_cells))\n",
    "\n",
    "#for i, p in tqdm(list(enumerate(pos))):\n",
    "#    resps_idxs = stim_df[stim_df[\"pos_start\"] == p].index\n",
    "\n",
    "#    rel_scores[i] = reliability(cropped[:, resps_idxs, :])\n",
    "\n",
    "rel_scores = cells_df.loc[:, [f\"rel_{i}\" for i in range(len(pos))]].values.T"
   ]
  },
  {
   "cell_type": "markdown",
   "metadata": {},
   "source": [
    "# Data for topology"
   ]
  },
  {
   "cell_type": "code",
   "execution_count": null,
   "metadata": {},
   "outputs": [],
   "source": [
    "pooled_data = fl.load(master_path / \"pooled_dfs.h5\", \"/all_cells_df\")\n",
    "all_responses = pooled_data.loc[:, [f\"rel_{i}\" for i in range(35)]].values.T\n",
    "all_coords = pooled_data.loc[:, [\"z\", \"x\", \"y\"]].values\n",
    "all_in_tectum = pooled_data[\"in_tectum\"].values\n",
    "\n",
    "responsive = all_responses.max(0) > 0.5\n",
    "all_peaks = np.argmax(all_responses, 0)\n",
    "stim_thetas = np.array(pos)"
   ]
  },
  {
   "cell_type": "code",
   "execution_count": null,
   "metadata": {},
   "outputs": [],
   "source": [
    "sum(responsive)"
   ]
  },
  {
   "cell_type": "code",
   "execution_count": null,
   "metadata": {},
   "outputs": [],
   "source": [
    "sum(all_in_tectum)"
   ]
  },
  {
   "cell_type": "markdown",
   "metadata": {},
   "source": [
    "# Data for histogram"
   ]
  },
  {
   "cell_type": "code",
   "execution_count": null,
   "metadata": {},
   "outputs": [],
   "source": [
    "pooled_data[\"fid\"] = pooled_data[\"cid\"].apply(fix_fid)\n",
    "\n",
    "REL_SCORE_THR = 0.5\n",
    "\n",
    "exp_df = []\n",
    "df_list = []\n",
    "for path in tqdm(path_list):\n",
    "    k = path.name\n",
    "    data = fl.load(path / \"cell_resps.h5\")\n",
    "    gen = [\"abl\", \"cnt\"][(int(k.split(\"_f\")[1]) % 2)]\n",
    "    rel_scores_fish = data[\"rel_scores\"]\n",
    "    amp_scores = data[\"amp_scores\"]\n",
    "    in_tectum = data[\"in_tectum\"]\n",
    "\n",
    "    n_cells = rel_scores_fish.shape[1]\n",
    "    n_stims = rel_scores_fish.shape[0]\n",
    "\n",
    "    reord_rel = center_on_peak(rel_scores_fish)\n",
    "    reord_amp = center_on_peak(amp_scores)\n",
    "\n",
    "    df = pd.DataFrame(np.concatenate([rel_scores_fish, amp_scores, reord_rel, reord_amp], 0).T, \n",
    "                      columns=[f\"rel_{i}\" for i in range(n_stims)] + \n",
    "                              [f\"amp_{i}\" for i in range(n_stims)] + \n",
    "                              [f\"rel_reord_{i}\" for i in range(n_stims)] + \n",
    "                              [f\"amp_reord_{i}\" for i in range(n_stims)])\n",
    "    df[\"cid\"] = [f\"{k}_{i:05.0f}\" for i in range(n_cells)]\n",
    "    df[\"gen\"] = gen\n",
    "    df[\"fid\"] = k\n",
    "    df[\"in_tectum\"] = in_tectum\n",
    "\n",
    "    df[\"max_rel\"] = np.nanmax(rel_scores_fish, 0)\n",
    "    df[\"max_rel_i\"] = np.argmax(rel_scores_fish, 0)\n",
    "    df[\"max_amp\"] = np.nanmax(amp_scores, 0)\n",
    "    df[\"max_amp_i\"] = np.argmax(amp_scores, 0)\n",
    "\n",
    "    exp_df.append(dict(fid=k,\n",
    "                gen=gen,\n",
    "                n_cells=n_cells,\n",
    "                n_cells_tectum=sum(in_tectum),\n",
    "                above_rel_thr=np.sum(np.max(rel_scores_fish[:, in_tectum], 0) > REL_SCORE_THR),\n",
    "                above_rel_thr_all=np.sum(np.max(rel_scores_fish, 0) > REL_SCORE_THR)))\n",
    "    df_list.append(df)\n",
    "    \n",
    "full_df = pd.concat(df_list, axis=0)\n",
    "full_df = full_df.set_index(full_df[\"cid\"])\n",
    "\n",
    "# Exclude bad fish:\n",
    "\n",
    "exp_df = pd.DataFrame(exp_df)\n",
    "exp_df = exp_df.set_index(\"fid\")\n",
    "exp_df[\"mn_amplitude\"] = full_df.loc[full_df[\"in_tectum\"] & \\\n",
    "                                     full_df[\"max_rel\"] > REL_SCORE_THR, :].groupby(\"fid\").mean()[\"max_amp\"]"
   ]
  },
  {
   "cell_type": "markdown",
   "metadata": {},
   "source": [
    "# Data for receptive field"
   ]
  },
  {
   "cell_type": "code",
   "execution_count": null,
   "metadata": {},
   "outputs": [],
   "source": [
    "from scipy.optimize import curve_fit\n",
    "\n",
    "x = np.arange(36)\n",
    "y_single_neuron = full_df.loc[(full_df[\"gen\"]==\"cnt\") & (full_df[\"max_rel\"] > 0.9), \n",
    "                       [f\"rel_reord_{i}\" for i in range(36)]].values[0, :]\n",
    "\n",
    "mean = sum(x * y_single_neuron) / sum(y_single_neuron)\n",
    "sigma = np.sqrt(sum(y_single_neuron * (x - mean)**2) / sum(y_single_neuron))\n",
    "\n",
    "def gaussian(x, a, x0, sigma):\n",
    "    return a * np.exp(-(x - x0)**2 / (2 * sigma**2))\n",
    "\n",
    "popt_singleneuron, pcov = curve_fit(gaussian, x, y_single_neuron, \n",
    "                                    p0=[max(y_single_neuron), mean, sigma])\n",
    "\n",
    "popt = fl.load(\"fit.h5\", \"/popt\")\n",
    "\n",
    "fit_params = np.array(popt)\n",
    "\n",
    "for i, par_name in enumerate([\"fit_amp\", \n",
    "                              \"fit_mn\", \n",
    "                              \"fit_sigma\"]):\n",
    "    full_df[par_name] = fit_params[:, i]\n",
    "    \n",
    "full_df[\"fit_sigma\"] = np.abs(full_df[\"fit_sigma\"])\n",
    "\n",
    "exp_df[\"mean_sigma\"] = np.nan\n",
    "for f in exp_df.index:\n",
    "    s = full_df.loc[(full_df[\"fid\"]==f) & (full_df[\"max_rel\"] > REL_SCORE_THR) & full_df[\"in_tectum\"], \"fit_sigma\"] \n",
    "    exp_df.loc[f, \"mean_sigma\"] = np.nanmean(s)"
   ]
  },
  {
   "cell_type": "markdown",
   "metadata": {},
   "source": [
    "# Main panel"
   ]
  },
  {
   "cell_type": "code",
   "execution_count": null,
   "metadata": {},
   "outputs": [],
   "source": [
    "# plt.rcParams['figure.constrained_layout.use'] = True\n",
    "plt.rcParams['axes.linewidth'] = 0.5 \n",
    "plt.rcParams['axes.labelsize'] = 8\n",
    "plt.rcParams[\"legend.fontsize\"] = 8\n",
    "plt.rcParams[\"axes.titlesize\"] = 8\n",
    "for t in [\"x\", \"y\"]:\n",
    "    plt.rcParams[t+'tick.major.size'] = 3\n",
    "    plt.rcParams[t+'tick.labelsize'] = 8\n",
    "    plt.rcParams[t+'tick.major.width'] = 0.5"
   ]
  },
  {
   "cell_type": "markdown",
   "metadata": {},
   "source": [
    "# Panel A: stimulus description"
   ]
  },
  {
   "cell_type": "code",
   "execution_count": null,
   "metadata": {},
   "outputs": [],
   "source": [
    "clip_masks = [s[\"clip_mask\"] for s in exp[\"stimulus\"][\"log\"][1::2]]\n",
    "titles = [\"4 s\", \"2 s\", \"4 s\", \"2 s\", \"4 s\"]\n",
    "stimuli = [0, None, 20, None, 10]\n",
    "letter_size = 12\n",
    "\n",
    "fig_a = plt.figure(figsize=(2.5, 3))\n",
    "\n",
    "xpos, ypos, side = 0.1, 0.6, 0.16\n",
    "axs = [fig_a.add_axes((xpos+side*1.1*i, ypos, side, side)) for i in range(5)]\n",
    "\n",
    "\n",
    "clip_masks = [s[\"clip_mask\"] for s in exp[\"stimulus\"][\"log\"][1::2]]\n",
    "titles = [\"4 s\", \"2 s\", \"4 s\", \"2 s\", \"4 s\"]\n",
    "stimuli = [0, None, 20, None, 10]\n",
    "for ax, title, stim_n in zip(axs, titles, stimuli):\n",
    "    ax.fill([0, 1, 1, 0], [0, 0, 1, 1], fc=\"r\")\n",
    "    \n",
    "    if stim_n is not None:\n",
    "        mask = clip_masks[stim_n]\n",
    "        ax.fill([m[0] for m in mask], [m[1] for m in mask], fc=\"k\", lw=0, alpha=0.6)\n",
    "    ax.set(ylim=(0.1, 0.9), xlim=(0.1, 0.9), xticks=[], yticks=[], title=title)\n",
    "    ax.set_aspect('equal', adjustable='box')\n",
    "    \n",
    "    add_fish(ax, offset=[0.45, 0.08], scale=(30/15))\n",
    "\n",
    "    despine(ax, sides=\"all\")\n",
    "    \n",
    "planes = [2, 6]\n",
    "pad = 10\n",
    "\n",
    "an_ax = fig_a.add_axes((0, 0, 1, 0.5))\n",
    "an_ax.imshow(np.concatenate([anatomy[i, pad:-pad, pad:-pad] for i in planes]).T, \n",
    "           cmap=\"gray_r\", origin=\"lower\", vmax=100, vmin=0)\n",
    "an_ax.contour(np.concatenate([ot_mask[i, pad:-pad, pad:-pad] for i in planes], axis=1), \n",
    "            origin=\"lower\", \n",
    "            levels=[1], linewidths=0.5, colors=[cols[3]])\n",
    "\n",
    "b_len = 100\n",
    "bar_pos_x = rois.shape[1]\n",
    "for ax, labels, bar_pos_y in zip(axs, [[\"caud-rost\", \"l-r\"], [\"vent-dors\"]], [400]):\n",
    "    an_ax.plot([bar_pos_x, bar_pos_x, bar_pos_x+b_len], \n",
    "              [bar_pos_y-b_len, bar_pos_y, bar_pos_y], lw=0.5, c=(0.3,)*3)\n",
    "    an_ax.text(bar_pos_x, bar_pos_y - b_len/2, labels[0], ha=\"right\", va=\"center\", \n",
    "               rotation='vertical', fontsize=8)\n",
    "    an_ax.text(bar_pos_x + b_len/2, bar_pos_y + 10, labels[1], ha=\"center\", va=\"bottom\", fontsize=8)\n",
    "an_ax.text(rois.shape[1]*2-pad*5, rois.shape[1] - pad*7, \n",
    "           \"Huc:H2B-GCaMP6s\", fontsize=7, ha=\"right\", va=\"top\", c=(0.5,)*3)\n",
    "\n",
    "\n",
    "plt.axis(\"off\")"
   ]
  },
  {
   "cell_type": "markdown",
   "metadata": {},
   "source": [
    "# Panel B, example cells"
   ]
  },
  {
   "cell_type": "code",
   "execution_count": null,
   "metadata": {},
   "outputs": [],
   "source": [
    "plt.close(\"all\")\n",
    "fig_b = plt.figure(figsize=(7, 3))\n",
    "\n",
    "m_xpos, m_ypos, xside, yside = 0.15, 0., 0.43, 1\n",
    "bounds_lims = [(m_xpos+xside*1.05*i, m_ypos, xside, yside) for i in range(2)]\n",
    "\n",
    "x_time = np.arange(0, cropped.shape[0])/fs - PRE_INT_S  # time array\n",
    "offset = np.median(np.array(pos)[1:] - np.array(pos)[:-1])  # offset on angle\n",
    "# parameters for circle of subplots:\n",
    "ax_w = 0.12\n",
    "ax_c = (0.5, 0.5)\n",
    "ax_r = 0.37\n",
    "n_stims = 36\n",
    "scaling_percentiles = [1, 99.89]\n",
    "\n",
    "p_w = 0.22  # side of the central histogram\n",
    "\n",
    "for c_n, (i_cell, (xpos, ypos, xside, yside)) in enumerate(zip([30, 10818], bounds_lims)):\n",
    "    \n",
    "    cell_plane = int(coords[i_cell, 0])  # plane in which the cell is found\n",
    "\n",
    "    # Get percentiles of responses scaling:\n",
    "    y_low, y_high = [np.nanpercentile(cropped[:, :, i_cell], p) for p in scaling_percentiles]\n",
    "\n",
    "    # Color roi stack with red in location of current ROI\n",
    "    rois_image = np.ones((rois.shape[1:]) + (3,))\n",
    "    for c in range(3):\n",
    "        rois_image[:, :,c][rois[cell_plane, :, :] >= 0] = 0.8\n",
    "        rois_image[:, :, c][rois[cell_plane, :, :] == i_cell] = cols[3][c]\n",
    "\n",
    "    rois_image = rois_image.swapaxes(0, 1)\n",
    "\n",
    "    # Loop over stimulus positions and plot reps and mean:\n",
    "    for i, th in enumerate(pos):\n",
    "        resps_idxs = stim_df[stim_df[\"pos_start\"] == th].index\n",
    "\n",
    "        plot_th = (np.pi*2 / n_stims) * i - np.pi + (10*np.pi/2) / 360\n",
    "        x = np.cos(plot_th)*ax_r\n",
    "        y = -np.sin(plot_th)*ax_r\n",
    "\n",
    "        ax = fig_b.add_axes((xpos + (ax_c[0] - ax_w/2 + x)*xside, \n",
    "                           ypos + (ax_c[1] - ax_w/2+ y)*yside, \n",
    "                           ax_w*xside, ax_w*yside))\n",
    "\n",
    "        ax.plot(x_time, cropped[:, resps_idxs, i_cell], lw=0.3, c=(0.4,)*3)\n",
    "        ax.plot(x_time, cropped[:, resps_idxs, i_cell].mean(1), lw=1, c=cols[3])\n",
    "        \n",
    "        ax.plot([0, 4], [-1.5, -1.5],  c=cols[0], alpha=0.6, lw=1)\n",
    "        ax.set(xlim=(-2, 7), ylim=(-y_high, y_high))\n",
    "        ax.axis(\"off\")\n",
    "        \n",
    "    ax = fig_b.add_axes((xpos + (ax_c[0] - ax_w/2 - 1/np.sqrt(2)*ax_r)*xside - 0.05, \n",
    "                           ypos + (ax_c[1] - ax_w/2- 1/np.sqrt(2)*ax_r)*yside, \n",
    "                           ax_w*xside, ax_w*yside))\n",
    "    ax.set(xlim=(-2, 7), ylim=(-y_high, y_high))\n",
    "    \n",
    "    bar_pos_x, bar_pos_y = 0, 0\n",
    "    bar_s_x, bar_s_y = (4, 4)\n",
    "    ax.axis(\"off\")\n",
    "    ax.plot([bar_pos_x, bar_pos_x, bar_pos_x+bar_s_x], \n",
    "              [bar_pos_y+bar_s_y, bar_pos_y, bar_pos_y], lw=0.5, c=(0.3,)*3)\n",
    "    ax.text(bar_pos_x-1, bar_pos_y + bar_s_y/2, f\"{bar_s_x} dF/F (Z-sc.)\", ha=\"right\", va=\"center\", \n",
    "               rotation='vertical', fontsize=8)\n",
    "    ax.text(bar_pos_x + bar_s_x/2, bar_pos_y-1, f\"{bar_s_y} s\", ha=\"center\", va=\"top\", fontsize=8)\n",
    "    ax.patch.set_alpha(0.)\n",
    "\n",
    "\n",
    "    ax = fig_b.add_axes((xpos + (ax_c[0]-p_w)*xside, \n",
    "                         ypos + (ax_c[1] - p_w)*yside, \n",
    "                         p_w*2*xside, p_w*2*yside), polar=True)\n",
    "\n",
    "    ax.bar(-np.array(pos), rel_scores[:, i_cell], lw=0, width=np.pi/18)\n",
    "\n",
    "    ax.set_thetagrids([])\n",
    "\n",
    "    ax.spines['polar'].set_visible(False) \n",
    "    ax.set_ylim(0, 1)\n",
    "    ax.set_rgrids([0.5, 1], angle=0, fontsize=7)\n",
    "    ax.text(-0.15, 0.85,\n",
    "            'Reliability', rotation=0,ha='center',va='center', fontsize=8)\n",
    "\n",
    "    anatomy_ax = fig_b.add_axes((xpos - 0.12*xside, ypos + 0.75*yside, 0.3*xside, 0.3*yside))\n",
    "    # anatomy_ax.imshow(rois_image, origin=\"lower\")\n",
    "    anatomy_ax.set_xlim(-5, rois.shape[1])\n",
    "    anatomy_ax.contour(rois[cell_plane, :, :] == i_cell, origin=\"lower\", levels=[1], \n",
    "                       linewidths=2, colors=[cols[3]])\n",
    "    anatomy_ax.contour(ot_mask[cell_plane, :, :], origin=\"lower\", levels=[1], \n",
    "                       linewidths=0.5, colors=[(0.5,)*3])\n",
    "    anatomy_ax.axis(\"off\")"
   ]
  },
  {
   "cell_type": "markdown",
   "metadata": {},
   "source": [
    "# Panel C: topology"
   ]
  },
  {
   "cell_type": "code",
   "execution_count": null,
   "metadata": {},
   "outputs": [],
   "source": [
    "all_coords[filt, 1]"
   ]
  },
  {
   "cell_type": "code",
   "execution_count": null,
   "metadata": {},
   "outputs": [],
   "source": [
    "plt.figure()\n",
    "plt.scatter(all_coords[:, 1], all_coords[:, 0])"
   ]
  },
  {
   "cell_type": "code",
   "execution_count": null,
   "metadata": {},
   "outputs": [],
   "source": [
    "{\"210611_f2\": (366, 202),\n",
    " \"210611_f3\": (363, 197),\n",
    " \"210611_f4\": (399, 299),\n",
    " \"210611_f5\": (313, 160),\n",
    " \"210611_f15\": (360, 177),\n",
    " \"210621_f1\": (370, 176),\n",
    " \"210621_f2\": (380, 162),\n",
    " \"210621_f3\": (,),\n",
    " \"210621_f4\": (,),\n",
    " \"210621_f10\": (,),\n",
    " \"210621_f11\": (,),\n",
    " \"210621_f13\": (,),\n",
    " \"210621_f14\": (,),\n",
    " \"210621_f20\": (,),\n",
    " \"210621_f21\": (,),\n",
    " \"210621_f22\": (,),\n",
    " \"210624_f0\": (,),\n",
    " \"210624_f1\": (,),\n",
    " \"210624_f3\": (,),\n",
    " \"210624_f4\": (,),\n",
    " \"210624_f5\": (,),\n",
    " \"210624_f11\": (,),\n",
    " \"210624_f14\": (,)}"
   ]
  },
  {
   "cell_type": "code",
   "execution_count": null,
   "metadata": {},
   "outputs": [],
   "source": [
    "def _shift_90_deg(array):\n",
    "    out = array + np.pi/2\n",
    "    out[out > np.pi] = -np.pi + np.mod(out[out > np.pi], np.pi)\n",
    "    return out"
   ]
  },
  {
   "cell_type": "code",
   "execution_count": null,
   "metadata": {},
   "outputs": [],
   "source": [
    "fig_c = plt.figure(figsize=(7.5, 3))\n",
    "m_xpos, m_ypos, xside, yside = 0.2, 0.1, 0.5, 0.7\n",
    "anat_scatt_size=3\n",
    "\n",
    "all_axs = [fig_c.add_axes((m_xpos + 0.65*i*xside, m_ypos, \n",
    "                        xside, yside)) for i in range(2)]\n",
    "# all_axs = [all_axs_top, all_axs_bot]\n",
    "\n",
    "spacing = 300\n",
    "for g_i, g in enumerate([\"MTZ-cnt\", \"OPC-abl\"]):\n",
    "    axs = all_axs[g_i]\n",
    "    for i in sorted(np.unique(all_coords[:, 0])):\n",
    "        filt = responsive & all_in_tectum & (all_coords[:, 0] == i) & (pooled_data[\"gen\"] == g)\n",
    "        axs.scatter(all_coords[filt, 1], all_coords[filt, 2], \n",
    "                    c=_shift_90_deg(stim_thetas[all_peaks[filt]]), \n",
    "                    cmap=\"twilight_shifted\", s=anat_scatt_size)\n",
    "    axs.set_aspect('equal', adjustable='box')\n",
    "    # axs[0].set(xlim=(-20, 760), ylim=(0, 460))\n",
    "\n",
    "    # axs[0].axis(\"off\")\n",
    "    # axs.text(351, 450, g, fontsize=8, va=\"bottom\", ha=\"center\")\n",
    "    axs.set_title(g)\n",
    "    despine(axs, sides=\"all\")\n",
    "\n",
    "    for i in range(12, 0, -1):\n",
    "        filt = responsive & all_in_tectum & (pooled_data[\"gen\"] == g) & \\\n",
    "                    (all_coords[:, 2] > i*50) & (all_coords[:, 2] < (i+1)*50)\n",
    "        axs.scatter(all_coords[filt, 1], all_coords[filt, 0] - spacing + np.random.rand(sum(filt))*14, \n",
    "                    c=_shift_90_deg(stim_thetas[all_peaks[filt]]), \n",
    "                    cmap=\"twilight_shifted\", s=anat_scatt_size)\n",
    "    # axs[0].set(xlim=(-20, 760))# , ylim=(0, 460))\n",
    "    # axs[1].axis(\"off\")\n",
    "    \n",
    "    # if g_i == 1:\n",
    "    b_len = 100\n",
    "    bar_pos_x = -100\n",
    "    print(g_i)\n",
    "    if g_i == 0:\n",
    "        print(g_i)\n",
    "        for labels, bar_pos_y in zip([[\"caud-rost\", \"l-r\"], [\"vent-dors\", \"l-r\"]], [200, 200 - spacing]):\n",
    "            axs.plot([bar_pos_x, bar_pos_x, bar_pos_x+b_len], \n",
    "                  [bar_pos_y-b_len, bar_pos_y, bar_pos_y], lw=0.5, c=(0.3,)*3)\n",
    "            axs.text(bar_pos_x, bar_pos_y - b_len/2, labels[0], ha=\"right\", va=\"center\", \n",
    "                       rotation='vertical', fontsize=8)\n",
    "            axs.text(bar_pos_x + b_len/2, bar_pos_y + 10, labels[1], ha=\"center\", va=\"bottom\", fontsize=8)\n",
    "    axs.set(xlim=(-120, 600))# , ylim=(0, 460))\n",
    "val_range = np.linspace(-np.pi, np.pi, 100)\n",
    "axs = fig_c.add_axes((0., 0.35, 0.25, 0.25))\n",
    "axs.imshow(_shift_90_deg(np.angle(val_range[:,None] + 1j*val_range[None,:]).T), \n",
    "          cmap=\"twilight_shifted\", extent=[0, 1, 0, 1])\n",
    "axs.text(0.5,1.05, \"stim. θ\", fontsize=7, va=\"bottom\", ha=\"center\")\n",
    "axs.axis(\"equal\")\n",
    "axs.axis(\"off\")\n",
    "add_fish(axs, offset=[0.45, 0.0], scale=1.7)"
   ]
  },
  {
   "cell_type": "markdown",
   "metadata": {},
   "source": [
    "# Panel D: rel. histogram"
   ]
  },
  {
   "cell_type": "code",
   "execution_count": null,
   "metadata": {},
   "outputs": [],
   "source": [
    "HIST_FIG_SIZE = (4., 3)\n",
    "group_colors = [(0.4,)*3, cols[2]]\n",
    "\n",
    "def hist_and_scatter(fig, hist_key, hist_range=None, hist_label=None, scatter_key=None,\n",
    "                    scatter_coef=1, scatter_label=None):\n",
    "    SCAT_DISP = 50  # scatter dispersion\n",
    "    hist_box = (0.1, 0.25, 0.4, 0.5)\n",
    "    scat_box = (0.75, 0.25, 0.2, 0.5)\n",
    "    p_val_size = 8\n",
    "    \n",
    "    axs = fig.add_axes(hist_box)\n",
    "    \n",
    "    rel_histograms = dict()\n",
    "    for i, g in enumerate([\"cnt\", \"abl\"]):\n",
    "        sel_fids = full_df.loc[full_df[\"gen\"]==g, \"fid\"].unique()\n",
    "        all_hists = []\n",
    "        for f in sel_fids:\n",
    "            h, bins = np.histogram(full_df.loc[(full_df[\"fid\"]==f) & full_df[\"in_tectum\"], hist_key], \n",
    "                                       hist_range, density=True)\n",
    "            all_hists.append(h)\n",
    "        rel_histograms[g] = np.array(all_hists)\n",
    "\n",
    "        x_bins = (bins[1:] + bins[:-1]) / 2\n",
    "\n",
    "        axs.plot(x_bins, rel_histograms[g].T, c=group_colors[i], lw=0.2)\n",
    "        axs.plot(x_bins, rel_histograms[g].mean(0), c=group_colors[i], lw=2, label=g)\n",
    "    plt.legend(frameon=False)\n",
    "    axs.set(yscale=\"log\", xlabel=hist_label)\n",
    "    despine(axs)\n",
    "\n",
    "    scat_axs = fig.add_axes(scat_box)\n",
    "    for i, g in enumerate([\"cnt\", \"abl\"]):\n",
    "        sel = exp_df.loc[exp_df[\"gen\"] == g, scatter_key]\n",
    "        scat_axs.scatter(np.random.randn(len(sel))/SCAT_DISP+i, sel*scatter_coef, \n",
    "                        c=group_colors[i], s=8)\n",
    "    diff_p = ranksums(*[exp_df.loc[exp_df[\"gen\"] == g, scatter_key] for g in [\"cnt\", \"abl\"]])\n",
    "    scat_axs.set(xlim=[-0.5, 1.5], xticks=[0, 1], xticklabels=[\"cnt\", \"abl\"], \n",
    "            ylabel=scatter_label)\n",
    "    \n",
    "    print(f\"p={diff_p.pvalue:0.4f}\")\n",
    "    pval = \"n.s.\"\n",
    "    if diff_p.pvalue < 0.05:\n",
    "        pval = \"*\"\n",
    "    if diff_p.pvalue < 0.01:\n",
    "        pval = \"**\"\n",
    "    if diff_p.pvalue < 0.001:\n",
    "        pval = \"***\"\n",
    "    pval_pos = np.percentile(exp_df.loc[:, scatter_key]*scatter_coef, 75)\n",
    "    scat_axs.text(0.5, 0.800, pval, fontsize=p_val_size, ha=\"center\") # f\"p={diff_p.pvalue:0.4f}\"\n",
    "    despine(scat_axs)\n",
    "    \n",
    "    return axs, scat_axs\n",
    "    \n",
    "fig_d = plt.figure(figsize=HIST_FIG_SIZE)\n",
    "axs, scat_axs = hist_and_scatter(fig_d, hist_key=\"max_rel\", hist_range=np.arange(0, 1, 0.02), \n",
    "                 hist_label=\"reliability score\", scatter_key=\"above_rel_thr\", \n",
    "                 scatter_coef=1/1000, scatter_label=\"responsive rois (thous.)\",\n",
    "                 )\n",
    "axs.axvline(0.5, lw=0.5, c=(0.4,)*3)"
   ]
  },
  {
   "cell_type": "markdown",
   "metadata": {},
   "source": [
    "# Panel E: amplitude histogram"
   ]
  },
  {
   "cell_type": "code",
   "execution_count": null,
   "metadata": {},
   "outputs": [],
   "source": [
    "fig_e = plt.figure(figsize=(4.5, 3))\n",
    "axs, scat_axs = hist_and_scatter(fig_e, hist_key=\"max_amp\", hist_range=np.arange(0, 6, 0.2), \n",
    "                 hist_label=\"resp. amplitude\", scatter_key=\"mn_amplitude\", \n",
    "                 scatter_label=\"average amplitude\",\n",
    "                 )"
   ]
  },
  {
   "cell_type": "code",
   "execution_count": null,
   "metadata": {},
   "outputs": [],
   "source": [
    "def _conv_to_dist(val):\n",
    "    return (val - 18) * 10\n",
    "x_range = _conv_to_dist(np.arange(36))\n",
    "\n",
    "m_xpos, m_ypos, xside, yside = 0.3, 0.25, 0.6, 0.25\n",
    "# fig_f, axs = plt.subplots(2, 1, figsize=(2., 3), sharex=True)\n",
    "fig_f = plt.figure(figsize=(3, 3))\n",
    "axs = [fig_f.add_axes((m_xpos, m_ypos + + 1.2*i*yside, \n",
    "                        xside, yside)) for i in range(2)]\n",
    "            \n",
    "data = full_df.loc[(full_df[\"max_rel\"] > REL_SCORE_THR) & full_df[\"in_tectum\"], \n",
    "                   [f\"rel_reord_{i}\" for i in range(36)]].values.T\n",
    "data = data / data[18, :]\n",
    "axs[1].plot(x_range, data[:, ::10], lw=0.3, c=(0.8,)*3)\n",
    "\n",
    "axs[1].plot(x_range, np.nanmedian(data, 1), lw=2, c=(0.5,)*3)\n",
    "\n",
    "axs[0].plot(x_range, y_single_neuron, 'o', label='data', lw=1, c=(0.5,)*3, markersize=3)\n",
    "axs[0].plot(x_range, gaussian(np.arange(len(x_range)), \n",
    "                              *popt_singleneuron), 'r-', label='fit', lw=1)\n",
    "axs[0].axvspan(_conv_to_dist(popt_singleneuron[1] - popt_singleneuron[2]), \n",
    "               _conv_to_dist(popt_singleneuron[1] + popt_singleneuron[2]), \n",
    "               fc=(0.9,)*3, lw=0)\n",
    "axs[0].text(_conv_to_dist(popt_singleneuron[1]), 1.05, \n",
    "            \"$2 \\dot \\sigma$\", fontsize=8, c=(0.4,)*3, ha=\"center\")\n",
    "axs[0].set(xlabel=\"distance from peak (°)\", ylabel=\"reliability\", ylim=(-0.1, 1.2))\n",
    "axs[1].set(xticklabels=[], ylabel=\"reliability\")\n",
    "#plt.tight_layout()\n",
    "plt.show()\n",
    "sns.despine()"
   ]
  },
  {
   "cell_type": "markdown",
   "metadata": {},
   "source": [
    "# Panel G: RF size"
   ]
  },
  {
   "cell_type": "code",
   "execution_count": null,
   "metadata": {},
   "outputs": [],
   "source": [
    "fig_g = plt.figure(figsize=(4.5, 3))\n",
    "axs, scat_axs = hist_and_scatter(fig_g, hist_key=\"fit_sigma\", hist_range=np.arange(0, 8, 0.2), \n",
    "                 hist_label=\"$\\sigma$\", scatter_key=\"mean_sigma\", \n",
    "                 scatter_label=\"average $\\sigma$\",\n",
    "                 )"
   ]
  },
  {
   "cell_type": "markdown",
   "metadata": {},
   "source": [
    "# Put together with trifle"
   ]
  },
  {
   "cell_type": "code",
   "execution_count": null,
   "metadata": {},
   "outputs": [],
   "source": [
    "%autoreload 2\n",
    "from trifle import *"
   ]
  },
  {
   "cell_type": "code",
   "execution_count": null,
   "metadata": {},
   "outputs": [],
   "source": [
    "flist = [[fig_a, fig_b], [fig_c, fig_d], [fig_e, fig_f, fig_g]]\n",
    "\n",
    "compfig, axes = compose_figure(flist, fig_width=8, enumeration=\"letters\")"
   ]
  },
  {
   "cell_type": "code",
   "execution_count": null,
   "metadata": {},
   "outputs": [],
   "source": [
    "transfer_fig_list(flist, axes)"
   ]
  },
  {
   "cell_type": "code",
   "execution_count": null,
   "metadata": {},
   "outputs": [],
   "source": [
    "compfig.savefig(\"/Users/luigipetrucco/Desktop/assembled_hr.png\", dpi=200)"
   ]
  },
  {
   "cell_type": "code",
   "execution_count": null,
   "metadata": {},
   "outputs": [],
   "source": []
  }
 ],
 "metadata": {
  "kernelspec": {
   "display_name": "rplab",
   "language": "python",
   "name": "rplab"
  },
  "language_info": {
   "codemirror_mode": {
    "name": "ipython",
    "version": 3
   },
   "file_extension": ".py",
   "mimetype": "text/x-python",
   "name": "python",
   "nbconvert_exporter": "python",
   "pygments_lexer": "ipython3",
   "version": "3.8.3"
  }
 },
 "nbformat": 4,
 "nbformat_minor": 4
}
