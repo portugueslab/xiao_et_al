{
 "cells": [
  {
   "cell_type": "code",
   "execution_count": null,
   "metadata": {},
   "outputs": [],
   "source": [
    "%matplotlib widget"
   ]
  },
  {
   "cell_type": "code",
   "execution_count": null,
   "metadata": {},
   "outputs": [],
   "source": [
    "from pathlib import Path\n",
    "import numpy as np\n",
    "from bouter import EmbeddedExperiment\n",
    "import pandas as pd\n",
    "from tqdm import tqdm\n",
    "import flammkuchen as fl\n",
    "\n",
    "from matplotlib import pyplot as plt\n",
    "import seaborn as sns\n",
    "sns.set(palette=\"deep\", style=\"ticks\")\n",
    "\n",
    "from scipy.signal import detrend\n",
    "\n",
    "from bouter.utilities import crop, reliability\n",
    "from utilities import stimulus_df_from_exp"
   ]
  },
  {
   "cell_type": "code",
   "execution_count": null,
   "metadata": {},
   "outputs": [],
   "source": [
    "master_path = Path(\"/Volumes/Shared/experiments/E0070_receptive_field/v04_flashing_rad_simple\")\n",
    "\n",
    "\n",
    "path_list = [f.parent for f in master_path.glob(\"*/data_from_suite2p_unfiltered.h5\")]\n",
    "path_list"
   ]
  },
  {
   "cell_type": "code",
   "execution_count": null,
   "metadata": {},
   "outputs": [],
   "source": [
    "# Check genotype consistency; odd numbers should all be controls:\n",
    "for path in path_list:\n",
    "    exp = EmbeddedExperiment(path)\n",
    "    if ((int(path.name.split(\"_f\")[1]) % 2) != 0) != (exp[\"general\"][\"animal\"][\"genotype\"]== \"Huc:H2B-GCaMP6s\"):\n",
    "        print(\"Check metadata of fish \", path.name)"
   ]
  },
  {
   "cell_type": "code",
   "execution_count": null,
   "metadata": {},
   "outputs": [],
   "source": [
    "# Load traces and experiment metadata:\n",
    "\n",
    "for path in tqdm(path_list[21:]):\n",
    "    traces = fl.load(path / \"data_from_suite2p_unfiltered.h5\", \"/traces\").T\n",
    "    coords = fl.load(path / \"data_from_suite2p_unfiltered.h5\", \"/coords\")\n",
    "    mask = fl.load(path / \"anatomy.mask\", \"/mask\")\n",
    "    int_c = np.round(coords).astype(np.int)\n",
    "    in_tectum = np.array([mask[c[0], c[2], c[1]] for c in int_c]).astype(np.bool)\n",
    "\n",
    "    exp = EmbeddedExperiment(path)\n",
    "    stim_df = stimulus_df_from_exp(exp)\n",
    "\n",
    "    # detrend the traces\n",
    "    for i in range(traces.shape[1]):\n",
    "        traces[:, i] = detrend(traces[:, i])\n",
    "    traces = (traces - np.nanmean(traces, 0)) / np.nanstd(traces, 0)\n",
    "\n",
    "    # Read original frequency:\n",
    "    fs = int(exp[\"imaging\"][\"microscope_config\"][\"lightsheet\"][\"scanning\"][\"z\"][\"frequency\"])\n",
    "    samp_n = traces.shape[0]\n",
    "    t_orig = np.arange(traces.shape[0]) / fs\n",
    "\n",
    "\n",
    "    # Crop around stimuli:\n",
    "    n_cells = traces.shape[1]\n",
    "    PRE_INT_S = 2\n",
    "    POST_INT_S = 5\n",
    "    cropped = crop(traces, stim_df[\"t\"]*fs, \n",
    "                         pre_int=int(PRE_INT_S*fs), post_int=int(POST_INT_S*fs))\n",
    "    cropped = cropped - cropped[:int(PRE_INT_S*fs), :, :].mean(0)\n",
    "\n",
    "    # Find unique positions in the stimulus:\n",
    "    pos = sorted(stim_df.loc[:, \"pos_start\"].unique())\n",
    "\n",
    "    # Loop over positions and compute reliability scores:\n",
    "    rel_scores = np.zeros((len(pos), n_cells))\n",
    "    amp_scores = np.zeros((len(pos), n_cells))\n",
    "\n",
    "    for i, p in list(enumerate(pos)):\n",
    "        resps_idxs = stim_df[stim_df[\"pos_start\"] == p].index\n",
    "\n",
    "        rel_scores[i] = reliability(cropped[:, resps_idxs, :])\n",
    "        amp_scores[i] = (cropped[8:18, resps_idxs, :].mean(0) - cropped[0:6, resps_idxs, :].mean(0)).mean(0)\n",
    "    \n",
    "    fl.save(path / \"cell_resps.h5\", dict(rel_scores=rel_scores, \n",
    "                                         in_tectum=in_tectum,\n",
    "                                         amp_scores=amp_scores))"
   ]
  },
  {
   "cell_type": "code",
   "execution_count": null,
   "metadata": {},
   "outputs": [],
   "source": [
    "all_dfs = []\n",
    "\n",
    "for path in tqdm(path_list):\n",
    "    exp = EmbeddedExperiment(path)\n",
    "    gen = exp[\"general\"][\"animal\"][\"genotype\"]\n",
    "    fid = path.name\n",
    "    \n",
    "    cells = pd.DataFrame(fl.load(path / \"cell_resps.h5\", \"/rel_scores\").T)\n",
    "    cells[\"in_tectum\"] = fl.load(path / \"cell_resps.h5\", \"/in_tectum\")\n",
    "    coords = fl.load(path / \"data_from_suite2p_unfiltered.h5\", \"/coords\")\n",
    "    cells[\"z\"] = coords[:, 0]\n",
    "    cells[\"x\"] = coords[:, 1]\n",
    "    cells[\"y\"] = coords[:, 2]\n",
    "    cells[\"cid\"] = [f\"{path.name}_c{i}\" for i in range(len(cells))]\n",
    "    cells[\"gen\"] = gen\n",
    "    cells[\"fid\"] = fid\n",
    "    \n",
    "    all_dfs.append(cells)\n",
    "\n",
    "all_cells = pd.concat(all_dfs, axis=0)\n",
    "    \n",
    "all_cells = all_cells.reset_index()"
   ]
  },
  {
   "cell_type": "code",
   "execution_count": null,
   "metadata": {},
   "outputs": [],
   "source": [
    "fl.save(master_path / \"new_pooled.h5\", all_cells)"
   ]
  },
  {
   "cell_type": "code",
   "execution_count": null,
   "metadata": {},
   "outputs": [],
   "source": []
  }
 ],
 "metadata": {
  "kernelspec": {
   "display_name": "rplab",
   "language": "python",
   "name": "rplab"
  },
  "language_info": {
   "codemirror_mode": {
    "name": "ipython",
    "version": 3
   },
   "file_extension": ".py",
   "mimetype": "text/x-python",
   "name": "python",
   "nbconvert_exporter": "python",
   "pygments_lexer": "ipython3",
   "version": "3.8.3"
  }
 },
 "nbformat": 4,
 "nbformat_minor": 4
}
