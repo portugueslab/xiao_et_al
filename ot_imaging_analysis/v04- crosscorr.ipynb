{
 "cells": [
  {
   "cell_type": "code",
   "execution_count": null,
   "metadata": {},
   "outputs": [],
   "source": [
    "%matplotlib widget"
   ]
  },
  {
   "cell_type": "code",
   "execution_count": null,
   "metadata": {},
   "outputs": [],
   "source": [
    "from pathlib import Path\n",
    "import numpy as np\n",
    "from bouter import EmbeddedExperiment\n",
    "import pandas as pd\n",
    "from tqdm import tqdm\n",
    "import flammkuchen as fl\n",
    "\n",
    "from matplotlib import pyplot as plt\n",
    "import seaborn as sns\n",
    "sns.set(palette=\"deep\", style=\"ticks\")\n",
    "cols = sns.color_palette()\n",
    "\n",
    "from scipy.stats import ranksums"
   ]
  },
  {
   "cell_type": "code",
   "execution_count": null,
   "metadata": {},
   "outputs": [],
   "source": [
    "pooled_cc = fl.load(\"/Users/luigipetrucco/Desktop/pooled_cc.h5\")\n",
    "pooled_dicts = fl.load(\"/Users/luigipetrucco/Desktop/pooled_resps.h5\")"
   ]
  },
  {
   "cell_type": "code",
   "execution_count": null,
   "metadata": {},
   "outputs": [],
   "source": [
    "fids = list(pooled_dicts.keys())"
   ]
  },
  {
   "cell_type": "code",
   "execution_count": null,
   "metadata": {},
   "outputs": [],
   "source": [
    "from numba import njit, prange\n",
    "\n",
    "@njit\n",
    "def roll_matrix(input_mat, indexes):\n",
    "    \n",
    "    output_mat = np.empty_like(input_mat)\n",
    "    \n",
    "    for i in prange(output_mat.shape[1]):\n",
    "        output_mat[:, i] = np.roll(input_mat[:, i], indexes[i])\n",
    "    \n",
    "    return output_mat\n",
    "\n",
    "def center_on_peak(input_mat):\n",
    "    \"\"\"Recenter along the 1st dimension.\n",
    "    \"\"\"\n",
    "    idxs = - np.argmax(input_mat, 0) - input_mat.shape[0] // 2\n",
    "    \n",
    "    return roll_matrix(input_mat, idxs)"
   ]
  },
  {
   "cell_type": "code",
   "execution_count": null,
   "metadata": {},
   "outputs": [],
   "source": [
    "REL_SCORE_THR = 0.5\n",
    "\n",
    "exp_df = []\n",
    "df_list = []\n",
    "for k in tqdm(list(pooled_dicts.keys())):\n",
    "    if k != \"210611_f14\":\n",
    "        gen = [\"abl\", \"cnt\"][(int(k.split(\"_f\")[1]) % 2)]\n",
    "        rel_scores = pooled_dicts[k][\"rel_scores\"]\n",
    "        amp_scores = pooled_dicts[k][\"amp_scores\"]\n",
    "\n",
    "        n_cells = rel_scores.shape[1]\n",
    "        n_stims = rel_scores.shape[0]\n",
    "\n",
    "        reord_rel = center_on_peak(rel_scores)\n",
    "        reord_amp = center_on_peak(amp_scores)\n",
    "\n",
    "        df = pd.DataFrame(np.concatenate([rel_scores, amp_scores, reord_rel, reord_amp], 0).T, \n",
    "                          columns=[f\"rel_{i}\" for i in range(n_stims)] + \n",
    "                                  [f\"amp_{i}\" for i in range(n_stims)] + \n",
    "                                  [f\"rel_reord_{i}\" for i in range(n_stims)] + \n",
    "                                  [f\"amp_reord_{i}\" for i in range(n_stims)])\n",
    "        df[\"cid\"] = [f\"{k}_{i:05.0f}\" for i in range(n_cells)]\n",
    "        df[\"gen\"] = gen\n",
    "        df[\"fid\"] = k\n",
    "\n",
    "        df[\"max_rel\"] = np.max(rel_scores, 0)\n",
    "        df[\"max_rel_i\"] = np.argmax(rel_scores, 0)\n",
    "        df[\"max_amp\"] = np.max(amp_scores, 0)\n",
    "        df[\"max_amp_i\"] = np.argmax(amp_scores, 0)\n",
    "\n",
    "        exp_df.append(dict(fid=k,\n",
    "                    gen=gen,\n",
    "                    n_cells=n_cells,\n",
    "                    above_rel_thr=np.sum(np.max(rel_scores, 0) > REL_SCORE_THR)))\n",
    "        df_list.append(df)\n",
    "    \n",
    "full_df = pd.concat(df_list, axis=0)\n",
    "full_df = full_df.set_index(full_df[\"cid\"])\n",
    "\n",
    "\n",
    "exp_df = pd.DataFrame(exp_df)\n",
    "exp_df = exp_df.set_index(\"fid\")"
   ]
  },
  {
   "cell_type": "code",
   "execution_count": null,
   "metadata": {},
   "outputs": [],
   "source": [
    "pooled_cc[k].keys()"
   ]
  },
  {
   "cell_type": "code",
   "execution_count": null,
   "metadata": {},
   "outputs": [],
   "source": []
  },
  {
   "cell_type": "code",
   "execution_count": null,
   "metadata": {},
   "outputs": [],
   "source": [
    "genotypes = exp_df[\"gen\"].unique()\n",
    "cc_dist_mats_dict = {g: [] for g in genotypes}\n",
    "\n",
    "for k in exp_df.index:\n",
    "    cc_dist_mats_dict[exp_df.loc[k, \"gen\"]].append(pooled_cc[k][\"cc_dist\"])\n",
    "    \n",
    "for g in genotypes:\n",
    "    cc_dist_mats_dict[g] = np.array(cc_dist_mats_dict[g])"
   ]
  },
  {
   "cell_type": "code",
   "execution_count": null,
   "metadata": {},
   "outputs": [],
   "source": [
    "plt.figure()\n",
    "for i, g in enumerate(genotypes):\n",
    "    plt.plot(cc_dist_mats_dict[g].T, c=cols[i], lw=0.3)\n",
    "    plt.plot(cc_dist_mats_dict[g].mean(0), c=cols[i], lw=2) \n",
    "    \n",
    "plt.yscale(\"log\")"
   ]
  },
  {
   "cell_type": "code",
   "execution_count": null,
   "metadata": {},
   "outputs": [],
   "source": [
    "f = exp_df.index[0]\n",
    "rel_thr = 0.4"
   ]
  },
  {
   "cell_type": "code",
   "execution_count": null,
   "metadata": {},
   "outputs": [],
   "source": [
    "all_scores = dict({k: [] for k in [\"cnt\", \"abl\"]})\n",
    "all_means = dict({k: [] for k in [\"cnt\", \"abl\"]})\n",
    "\n",
    "for f in exp_df.index:\n",
    "    ccs = pooled_cc[f][\"cc_abs_avg\"][full_df.loc[full_df[\"fid\"] == f, \"max_rel\"] > rel_thr]\n",
    "    \n",
    "    all_scores[exp_df.loc[f, \"gen\"]].append(ccs)\n",
    "    all_means[exp_df.loc[f, \"gen\"]].append(np.mean(ccs))\n",
    "\n",
    "for g in [\"cnt\", \"abl\"]:\n",
    "    all_means[g] = np.array(all_means[g])"
   ]
  },
  {
   "cell_type": "code",
   "execution_count": null,
   "metadata": {},
   "outputs": [],
   "source": [
    "from scipy.stats import ranksums"
   ]
  },
  {
   "cell_type": "code",
   "execution_count": null,
   "metadata": {},
   "outputs": [],
   "source": [
    "plt.figure(figsize=(4,3))\n",
    "for i, g in enumerate([\"cnt\", \"abl\"]):\n",
    "    plt.scatter(np.ones(len(all_means[g]))*i+np.random.randn(len(all_means[g]))*0.05, \n",
    "                all_means[g])\n",
    "\n",
    "diff_p = ranksums(*[all_means[g] for g in [\"cnt\", \"abl\"]])\n",
    "plt.text(0.5, 0.25, f\"p={diff_p.pvalue:0.4f}\")\n",
    "\n",
    "sns.despine()"
   ]
  },
  {
   "cell_type": "code",
   "execution_count": null,
   "metadata": {},
   "outputs": [],
   "source": [
    "pooled_all_dicts[\"210611_f1\"].keys()"
   ]
  },
  {
   "cell_type": "code",
   "execution_count": null,
   "metadata": {},
   "outputs": [],
   "source": [
    "pooled_all_dicts = fl.load(\"/Users/luigipetrucco/Desktop/pooled_all_resps.h5\")"
   ]
  },
  {
   "cell_type": "code",
   "execution_count": null,
   "metadata": {},
   "outputs": [],
   "source": []
  },
  {
   "cell_type": "code",
   "execution_count": null,
   "metadata": {},
   "outputs": [],
   "source": []
  },
  {
   "cell_type": "code",
   "execution_count": null,
   "metadata": {},
   "outputs": [],
   "source": [
    "rel_istograms = dict()\n",
    "\n",
    "plt.figure(figsize=(4, 3))\n",
    "plt.title(\"Reliability score\")\n",
    "for i, g in enumerate([\"cnt\", \"abl\"]):\n",
    "    sel_fids = full_df.loc[full_df[\"gen\"]==g, \"fid\"].unique()# [:1]\n",
    "    print(sel_fids)\n",
    "    all_hists = []\n",
    "    for f in sel_fids:\n",
    "        h, bins = np.histogram(full_df.loc[full_df[\"fid\"]==f, \"max_rel\"], \n",
    "                                   np.arange(0, 1, 0.02), density=True)\n",
    "        all_hists.append(h)\n",
    "    rel_istograms[g] = np.array(all_hists)\n",
    "\n",
    "    x_bins = (bins[1:] + bins[:-1]) / 2\n",
    "\n",
    "    plt.plot(x_bins, rel_istograms[g].T, c=cols[i], lw=0.2)\n",
    "    plt.plot(x_bins, rel_istograms[g].mean(0), c=cols[i], lw=2, label=g)\n",
    "    \n",
    "plt.legend(frameon=False)\n",
    "plt.yscale(\"log\")\n",
    "sns.despine()"
   ]
  },
  {
   "cell_type": "code",
   "execution_count": null,
   "metadata": {},
   "outputs": [],
   "source": [
    "rel_istograms = dict()\n",
    "\n",
    "plt.figure(figsize=(4, 3))\n",
    "plt.title(\"Response amplitude\")\n",
    "\n",
    "for i, g in enumerate([\"cnt\", \"abl\"]):\n",
    "    sel_fids = full_df.loc[full_df[\"gen\"]==g, \"fid\"].unique()\n",
    "    print(sel_fids)\n",
    "    all_hists = []\n",
    "    for f in sel_fids:\n",
    "        h, bins = np.histogram(full_df.loc[full_df[\"fid\"]==f, \"max_amp\"], \n",
    "                                   np.arange(0, 6, 0.2),density=True)\n",
    "        all_hists.append(h)\n",
    "    rel_istograms[g] = np.array(all_hists)\n",
    "\n",
    "    x_bins = (bins[1:] + bins[:-1]) / 2\n",
    "\n",
    "    plt.plot(x_bins, rel_istograms[g].T, c=cols[i], lw=0.2)\n",
    "    plt.plot(x_bins, np.nanmean(rel_istograms[g], 0), c=cols[i], lw=2, label=g)\n",
    "    \n",
    "plt.legend(frameon=False)\n",
    "sns.despine()\n",
    "plt.yscale(\"log\")\n",
    "plt.tight_layout()"
   ]
  },
  {
   "cell_type": "markdown",
   "metadata": {},
   "source": [
    "## Fraction of responsive cells"
   ]
  },
  {
   "cell_type": "code",
   "execution_count": null,
   "metadata": {},
   "outputs": [],
   "source": [
    "exp_df[\"fraction_resp\"] = (exp_df[\"above_rel_thr\"] / exp_df[\"n_cells\"])*100\n",
    "plt.figure(figsize=(3, 3))\n",
    "sns.swarmplot(data=exp_df, x=\"gen\", y=\"fraction_resp\")\n",
    "sns.despine()\n",
    "plt.tight_layout()\n",
    "diff_p = ranksums(*[exp_df.loc[exp_df[\"gen\"] == g, \"fraction_resp\"] for g in [\"cnt\", \"abl\"]])\n",
    "plt.xlabel(\"Genotype\")\n",
    "plt.ylabel(\"Responsive cells (%)\")\n",
    "\n",
    "plt.text(0.5, 6, f\"p={diff_p.pvalue:0.4f}\")"
   ]
  },
  {
   "cell_type": "code",
   "execution_count": null,
   "metadata": {},
   "outputs": [],
   "source": [
    "plt.close(\"all\")\n",
    "f, axs = plt.subplots(3, 1, figsize=(4, 6))\n",
    "for i, k in enumerate([\"abl\", \"cnt\"]):\n",
    "    data = full_df.loc[(full_df[\"gen\"]==k) & (full_df[\"max_rel\"] > 0.8), \n",
    "                       [f\"rel_reord_{i}\" for i in range(36)]].values.T\n",
    "    axs[i].plot(data[:, ::], lw=0.3, c=[c+0.1 for c in cols[i]])\n",
    "\n",
    "    axs[i].plot(np.nanmean(data, 1), lw=2, c=[c-0.1 for c in cols[i]])\n",
    "    \n",
    "for i, k in enumerate([\"abl\", \"cnt\"]):\n",
    "    data = full_df.loc[(full_df[\"gen\"]==k) & (full_df[\"max_rel\"] > 0.8), \n",
    "                       [f\"rel_reord_{i}\" for i in range(36)]].values.T\n",
    "\n",
    "    axs[2].plot(np.nanmean(data, 1), lw=2, c=[c-0.1 for c in cols[i]])\n",
    "plt.show()\n",
    "sns.despine()"
   ]
  },
  {
   "cell_type": "code",
   "execution_count": null,
   "metadata": {},
   "outputs": [],
   "source": [
    "data = full_df.loc[(full_df[\"gen\"]==k) & (full_df[\"max_rel\"] > 0.8), \n",
    "                       [f\"rel_reord_{i}\" for i in range(36)]].values.T\n",
    "\n",
    "popt, pcov = [], []\n",
    "for i in range(data.shape[1]):\n",
    "    o, c = curve_fit(gaussian, x, y, p0=[max(y), mean, sigma])\n",
    "    popt.append(o)\n",
    "    pcov.append"
   ]
  },
  {
   "cell_type": "code",
   "execution_count": null,
   "metadata": {},
   "outputs": [],
   "source": [
    "from scipy.optimize import curve_fit\n",
    "\n",
    "x = np.arange(36)\n",
    "y = data[:, 500]\n",
    "\n",
    "mean = sum(x * y) / sum(y)\n",
    "sigma = np.sqrt(sum(y * (x - mean)**2) / sum(y))\n",
    "\n",
    "def gaussian(x, a, x0, sigma):\n",
    "    return a * np.exp(-(x - x0)**2 / (2 * sigma**2))\n",
    "\n",
    "popt, pcov = curve_fit(gaussian, x, y, p0=[max(y), mean, sigma])\n",
    "\n",
    "plt.figure()\n",
    "plt.plot(x, y, 'b+:', label='data')\n",
    "plt.plot(x, Gauss(x, *popt), 'r-', label='fit')\n",
    "plt.legend()\n",
    "plt.title('Fig. 3 - Fit for Time Constant')\n",
    "plt.xlabel('Time (s)')\n",
    "plt.ylabel('Voltage (V)')\n",
    "plt.show()"
   ]
  },
  {
   "cell_type": "code",
   "execution_count": null,
   "metadata": {},
   "outputs": [],
   "source": [
    "full_data_mat = full_df.loc[:, [f\"rel_reord_{i}\" for i in range(36)]].values"
   ]
  },
  {
   "cell_type": "code",
   "execution_count": null,
   "metadata": {},
   "outputs": [],
   "source": [
    "popt = []\n",
    "pcov = []\n",
    "for i in tqdm(range(full_data_mat.shape[0])):\n",
    "    try:\n",
    "        p, c = curve_fit(gaussian, x, full_data_mat[i, :], p0=[max(y), mean, sigma])\n",
    "        popt.append(p)\n",
    "        pcov.append(c)\n",
    "    except RuntimeError:\n",
    "        popt.append(np.full(3, np.nan))\n",
    "        pcov.append(np.full((3, 3), np.nan))"
   ]
  },
  {
   "cell_type": "code",
   "execution_count": null,
   "metadata": {},
   "outputs": [],
   "source": [
    "fl.save(\"fit.h5\", dict(popt=np.array(popt), pcov=np.array(pcov)))"
   ]
  },
  {
   "cell_type": "code",
   "execution_count": null,
   "metadata": {},
   "outputs": [],
   "source": [
    "fit_params = np.array(popt)\n",
    "\n",
    "for i, par_name in enumerate([\"fit_amp\", \n",
    "                              \"fit_mn\", \n",
    "                              \"fit_sigma\"]):\n",
    "    full_df[par_name] = fit_params[:, i]\n",
    "    \n",
    "full_df[\"fit_sigma\"] = np.abs(full_df[\"fit_sigma\"])"
   ]
  },
  {
   "cell_type": "code",
   "execution_count": null,
   "metadata": {},
   "outputs": [],
   "source": [
    "plt.figure()\n",
    "plt.hist()\n",
    "sns.violinplot(data=full_df[full_df[\"max_rel\"] > 0.7], x=\"gen\", y=\"fit_sigma\")\n",
    "# full_df.[(full_df[\"gen\"]==\"abl\") & (), \"fit_sigma\"]"
   ]
  },
  {
   "cell_type": "code",
   "execution_count": null,
   "metadata": {},
   "outputs": [],
   "source": [
    "plt.close(\"all\")\n",
    "plt.figure()\n",
    "thr = 0.7\n",
    "bw = 0.2\n",
    "plt.hist(full_df.loc[(full_df[\"max_rel\"] > thr) & (full_df[\"gen\"] == \"cnt\"), \"fit_sigma\"].values,\n",
    "         np.arange(0, 10, bw), lw=0, alpha=0.4, density=True)\n",
    "plt.hist(full_df.loc[(full_df[\"max_rel\"] > thr) & (full_df[\"gen\"] == \"abl\"), \"fit_sigma\"].values,\n",
    "         np.arange(0, 10, bw), lw=0, alpha=0.4, density=True)\n",
    "plt.show()"
   ]
  },
  {
   "cell_type": "code",
   "execution_count": null,
   "metadata": {},
   "outputs": [],
   "source": []
  }
 ],
 "metadata": {
  "kernelspec": {
   "display_name": "rplab",
   "language": "python",
   "name": "rplab"
  },
  "language_info": {
   "codemirror_mode": {
    "name": "ipython",
    "version": 3
   },
   "file_extension": ".py",
   "mimetype": "text/x-python",
   "name": "python",
   "nbconvert_exporter": "python",
   "pygments_lexer": "ipython3",
   "version": "3.8.3"
  }
 },
 "nbformat": 4,
 "nbformat_minor": 4
}
